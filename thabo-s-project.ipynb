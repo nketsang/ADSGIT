{
 "cells": [
  {
   "cell_type": "code",
   "execution_count": 1,
   "id": "moved-master",
   "metadata": {
    "_cell_guid": "b1076dfc-b9ad-4769-8c92-a6c4dae69d19",
    "_uuid": "8f2839f25d086af736a60e9eeb907d3b93b6e0e5",
    "execution": {
     "iopub.execute_input": "2021-06-03T15:20:57.715735Z",
     "iopub.status.busy": "2021-06-03T15:20:57.714740Z",
     "iopub.status.idle": "2021-06-03T15:20:57.730964Z",
     "shell.execute_reply": "2021-06-03T15:20:57.731694Z",
     "shell.execute_reply.started": "2021-06-03T13:16:54.774104Z"
    },
    "papermill": {
     "duration": 0.047876,
     "end_time": "2021-06-03T15:20:57.732012",
     "exception": false,
     "start_time": "2021-06-03T15:20:57.684136",
     "status": "completed"
    },
    "tags": []
   },
   "outputs": [
    {
     "name": "stdout",
     "output_type": "stream",
     "text": [
      "/kaggle/input/telco-customer-churn/WA_Fn-UseC_-Telco-Customer-Churn.csv\n"
     ]
    }
   ],
   "source": [
    "# This Python 3 environment comes with many helpful analytics libraries installed\n",
    "# It is defined by the kaggle/python Docker image: https://github.com/kaggle/docker-python\n",
    "# For example, here's several helpful packages to load\n",
    "\n",
    "import numpy as np # linear algebra\n",
    "import pandas as pd # data processing, CSV file I/O (e.g. pd.read_csv)\n",
    "\n",
    "# Input data files are available in the read-only \"../input/\" directory\n",
    "# For example, running this (by clicking run or pressing Shift+Enter) will list all files under the input directory\n",
    "\n",
    "import os\n",
    "for dirname, _, filenames in os.walk('/kaggle/input'):\n",
    "    for filename in filenames:\n",
    "        print(os.path.join(dirname, filename))\n",
    "\n",
    "# You can write up to 20GB to the current directory (/kaggle/working/) that gets preserved as output when you create a version using \"Save & Run All\" \n",
    "# You can also write temporary files to /kaggle/temp/, but they won't be saved outside of the current session"
   ]
  },
  {
   "cell_type": "markdown",
   "id": "surprised-brand",
   "metadata": {
    "papermill": {
     "duration": 0.026783,
     "end_time": "2021-06-03T15:20:57.786606",
     "exception": false,
     "start_time": "2021-06-03T15:20:57.759823",
     "status": "completed"
    },
    "tags": []
   },
   "source": [
    "# **Telco Churn Prediction**\n",
    "\n",
    "Customer churn, also known as customer attrition, is when a customer chooses to stop using your products or services. With each customer who churns, there are usually early indicators that could have been uncovered with churn analysis."
   ]
  },
  {
   "cell_type": "code",
   "execution_count": 2,
   "id": "random-connectivity",
   "metadata": {
    "execution": {
     "iopub.execute_input": "2021-06-03T15:20:57.845464Z",
     "iopub.status.busy": "2021-06-03T15:20:57.844863Z",
     "iopub.status.idle": "2021-06-03T15:20:59.762598Z",
     "shell.execute_reply": "2021-06-03T15:20:59.761776Z",
     "shell.execute_reply.started": "2021-06-03T13:16:54.795716Z"
    },
    "papermill": {
     "duration": 1.948132,
     "end_time": "2021-06-03T15:20:59.762732",
     "exception": false,
     "start_time": "2021-06-03T15:20:57.814600",
     "status": "completed"
    },
    "tags": []
   },
   "outputs": [],
   "source": [
    "# Import libraries we'll need\n",
    "\n",
    "import numpy as np \n",
    "import pandas as pd\n",
    "\n",
    "#visualization\n",
    "import seaborn as sns\n",
    "import matplotlib.pyplot as plt\n",
    "\n",
    "import plotly.express as px"
   ]
  },
  {
   "cell_type": "markdown",
   "id": "formed-forum",
   "metadata": {
    "papermill": {
     "duration": 0.026499,
     "end_time": "2021-06-03T15:20:59.816159",
     "exception": false,
     "start_time": "2021-06-03T15:20:59.789660",
     "status": "completed"
    },
    "tags": []
   },
   "source": [
    "# **Get the data**\n",
    "Data obtained from https://www.kaggle.com/blastchar/telco-customer-churn"
   ]
  },
  {
   "cell_type": "code",
   "execution_count": 3,
   "id": "unnecessary-reasoning",
   "metadata": {
    "execution": {
     "iopub.execute_input": "2021-06-03T15:20:59.873404Z",
     "iopub.status.busy": "2021-06-03T15:20:59.872859Z",
     "iopub.status.idle": "2021-06-03T15:20:59.963190Z",
     "shell.execute_reply": "2021-06-03T15:20:59.963621Z",
     "shell.execute_reply.started": "2021-06-03T13:16:57.081031Z"
    },
    "papermill": {
     "duration": 0.121346,
     "end_time": "2021-06-03T15:20:59.963773",
     "exception": false,
     "start_time": "2021-06-03T15:20:59.842427",
     "status": "completed"
    },
    "tags": []
   },
   "outputs": [
    {
     "data": {
      "text/html": [
       "<div>\n",
       "<style scoped>\n",
       "    .dataframe tbody tr th:only-of-type {\n",
       "        vertical-align: middle;\n",
       "    }\n",
       "\n",
       "    .dataframe tbody tr th {\n",
       "        vertical-align: top;\n",
       "    }\n",
       "\n",
       "    .dataframe thead th {\n",
       "        text-align: right;\n",
       "    }\n",
       "</style>\n",
       "<table border=\"1\" class=\"dataframe\">\n",
       "  <thead>\n",
       "    <tr style=\"text-align: right;\">\n",
       "      <th></th>\n",
       "      <th>customerID</th>\n",
       "      <th>gender</th>\n",
       "      <th>SeniorCitizen</th>\n",
       "      <th>Partner</th>\n",
       "      <th>Dependents</th>\n",
       "      <th>tenure</th>\n",
       "      <th>PhoneService</th>\n",
       "      <th>MultipleLines</th>\n",
       "      <th>InternetService</th>\n",
       "      <th>OnlineSecurity</th>\n",
       "      <th>...</th>\n",
       "      <th>DeviceProtection</th>\n",
       "      <th>TechSupport</th>\n",
       "      <th>StreamingTV</th>\n",
       "      <th>StreamingMovies</th>\n",
       "      <th>Contract</th>\n",
       "      <th>PaperlessBilling</th>\n",
       "      <th>PaymentMethod</th>\n",
       "      <th>MonthlyCharges</th>\n",
       "      <th>TotalCharges</th>\n",
       "      <th>Churn</th>\n",
       "    </tr>\n",
       "  </thead>\n",
       "  <tbody>\n",
       "    <tr>\n",
       "      <th>0</th>\n",
       "      <td>7590-VHVEG</td>\n",
       "      <td>Female</td>\n",
       "      <td>0</td>\n",
       "      <td>Yes</td>\n",
       "      <td>No</td>\n",
       "      <td>1</td>\n",
       "      <td>No</td>\n",
       "      <td>No phone service</td>\n",
       "      <td>DSL</td>\n",
       "      <td>No</td>\n",
       "      <td>...</td>\n",
       "      <td>No</td>\n",
       "      <td>No</td>\n",
       "      <td>No</td>\n",
       "      <td>No</td>\n",
       "      <td>Month-to-month</td>\n",
       "      <td>Yes</td>\n",
       "      <td>Electronic check</td>\n",
       "      <td>29.85</td>\n",
       "      <td>29.85</td>\n",
       "      <td>No</td>\n",
       "    </tr>\n",
       "    <tr>\n",
       "      <th>1</th>\n",
       "      <td>5575-GNVDE</td>\n",
       "      <td>Male</td>\n",
       "      <td>0</td>\n",
       "      <td>No</td>\n",
       "      <td>No</td>\n",
       "      <td>34</td>\n",
       "      <td>Yes</td>\n",
       "      <td>No</td>\n",
       "      <td>DSL</td>\n",
       "      <td>Yes</td>\n",
       "      <td>...</td>\n",
       "      <td>Yes</td>\n",
       "      <td>No</td>\n",
       "      <td>No</td>\n",
       "      <td>No</td>\n",
       "      <td>One year</td>\n",
       "      <td>No</td>\n",
       "      <td>Mailed check</td>\n",
       "      <td>56.95</td>\n",
       "      <td>1889.5</td>\n",
       "      <td>No</td>\n",
       "    </tr>\n",
       "    <tr>\n",
       "      <th>2</th>\n",
       "      <td>3668-QPYBK</td>\n",
       "      <td>Male</td>\n",
       "      <td>0</td>\n",
       "      <td>No</td>\n",
       "      <td>No</td>\n",
       "      <td>2</td>\n",
       "      <td>Yes</td>\n",
       "      <td>No</td>\n",
       "      <td>DSL</td>\n",
       "      <td>Yes</td>\n",
       "      <td>...</td>\n",
       "      <td>No</td>\n",
       "      <td>No</td>\n",
       "      <td>No</td>\n",
       "      <td>No</td>\n",
       "      <td>Month-to-month</td>\n",
       "      <td>Yes</td>\n",
       "      <td>Mailed check</td>\n",
       "      <td>53.85</td>\n",
       "      <td>108.15</td>\n",
       "      <td>Yes</td>\n",
       "    </tr>\n",
       "    <tr>\n",
       "      <th>3</th>\n",
       "      <td>7795-CFOCW</td>\n",
       "      <td>Male</td>\n",
       "      <td>0</td>\n",
       "      <td>No</td>\n",
       "      <td>No</td>\n",
       "      <td>45</td>\n",
       "      <td>No</td>\n",
       "      <td>No phone service</td>\n",
       "      <td>DSL</td>\n",
       "      <td>Yes</td>\n",
       "      <td>...</td>\n",
       "      <td>Yes</td>\n",
       "      <td>Yes</td>\n",
       "      <td>No</td>\n",
       "      <td>No</td>\n",
       "      <td>One year</td>\n",
       "      <td>No</td>\n",
       "      <td>Bank transfer (automatic)</td>\n",
       "      <td>42.30</td>\n",
       "      <td>1840.75</td>\n",
       "      <td>No</td>\n",
       "    </tr>\n",
       "    <tr>\n",
       "      <th>4</th>\n",
       "      <td>9237-HQITU</td>\n",
       "      <td>Female</td>\n",
       "      <td>0</td>\n",
       "      <td>No</td>\n",
       "      <td>No</td>\n",
       "      <td>2</td>\n",
       "      <td>Yes</td>\n",
       "      <td>No</td>\n",
       "      <td>Fiber optic</td>\n",
       "      <td>No</td>\n",
       "      <td>...</td>\n",
       "      <td>No</td>\n",
       "      <td>No</td>\n",
       "      <td>No</td>\n",
       "      <td>No</td>\n",
       "      <td>Month-to-month</td>\n",
       "      <td>Yes</td>\n",
       "      <td>Electronic check</td>\n",
       "      <td>70.70</td>\n",
       "      <td>151.65</td>\n",
       "      <td>Yes</td>\n",
       "    </tr>\n",
       "  </tbody>\n",
       "</table>\n",
       "<p>5 rows × 21 columns</p>\n",
       "</div>"
      ],
      "text/plain": [
       "   customerID  gender  SeniorCitizen Partner Dependents  tenure PhoneService  \\\n",
       "0  7590-VHVEG  Female              0     Yes         No       1           No   \n",
       "1  5575-GNVDE    Male              0      No         No      34          Yes   \n",
       "2  3668-QPYBK    Male              0      No         No       2          Yes   \n",
       "3  7795-CFOCW    Male              0      No         No      45           No   \n",
       "4  9237-HQITU  Female              0      No         No       2          Yes   \n",
       "\n",
       "      MultipleLines InternetService OnlineSecurity  ... DeviceProtection  \\\n",
       "0  No phone service             DSL             No  ...               No   \n",
       "1                No             DSL            Yes  ...              Yes   \n",
       "2                No             DSL            Yes  ...               No   \n",
       "3  No phone service             DSL            Yes  ...              Yes   \n",
       "4                No     Fiber optic             No  ...               No   \n",
       "\n",
       "  TechSupport StreamingTV StreamingMovies        Contract PaperlessBilling  \\\n",
       "0          No          No              No  Month-to-month              Yes   \n",
       "1          No          No              No        One year               No   \n",
       "2          No          No              No  Month-to-month              Yes   \n",
       "3         Yes          No              No        One year               No   \n",
       "4          No          No              No  Month-to-month              Yes   \n",
       "\n",
       "               PaymentMethod MonthlyCharges  TotalCharges Churn  \n",
       "0           Electronic check          29.85         29.85    No  \n",
       "1               Mailed check          56.95        1889.5    No  \n",
       "2               Mailed check          53.85        108.15   Yes  \n",
       "3  Bank transfer (automatic)          42.30       1840.75    No  \n",
       "4           Electronic check          70.70        151.65   Yes  \n",
       "\n",
       "[5 rows x 21 columns]"
      ]
     },
     "execution_count": 3,
     "metadata": {},
     "output_type": "execute_result"
    }
   ],
   "source": [
    "df=pd.read_csv(\"../input/telco-customer-churn/WA_Fn-UseC_-Telco-Customer-Churn.csv\")\n",
    "df.head()"
   ]
  },
  {
   "cell_type": "markdown",
   "id": "neural-specification",
   "metadata": {
    "papermill": {
     "duration": 0.026853,
     "end_time": "2021-06-03T15:21:00.017461",
     "exception": false,
     "start_time": "2021-06-03T15:20:59.990608",
     "status": "completed"
    },
    "tags": []
   },
   "source": [
    "# **Cleaning and Understanding the data**\n",
    "We now try to understand the data we are dealing with"
   ]
  },
  {
   "cell_type": "code",
   "execution_count": 4,
   "id": "pressing-director",
   "metadata": {
    "execution": {
     "iopub.execute_input": "2021-06-03T15:21:00.075381Z",
     "iopub.status.busy": "2021-06-03T15:21:00.074503Z",
     "iopub.status.idle": "2021-06-03T15:21:00.079165Z",
     "shell.execute_reply": "2021-06-03T15:21:00.079584Z",
     "shell.execute_reply.started": "2021-06-03T13:16:57.188146Z"
    },
    "papermill": {
     "duration": 0.035496,
     "end_time": "2021-06-03T15:21:00.079740",
     "exception": false,
     "start_time": "2021-06-03T15:21:00.044244",
     "status": "completed"
    },
    "tags": []
   },
   "outputs": [
    {
     "data": {
      "text/plain": [
       "customerID           object\n",
       "gender               object\n",
       "SeniorCitizen         int64\n",
       "Partner              object\n",
       "Dependents           object\n",
       "tenure                int64\n",
       "PhoneService         object\n",
       "MultipleLines        object\n",
       "InternetService      object\n",
       "OnlineSecurity       object\n",
       "OnlineBackup         object\n",
       "DeviceProtection     object\n",
       "TechSupport          object\n",
       "StreamingTV          object\n",
       "StreamingMovies      object\n",
       "Contract             object\n",
       "PaperlessBilling     object\n",
       "PaymentMethod        object\n",
       "MonthlyCharges      float64\n",
       "TotalCharges         object\n",
       "Churn                object\n",
       "dtype: object"
      ]
     },
     "execution_count": 4,
     "metadata": {},
     "output_type": "execute_result"
    }
   ],
   "source": [
    "# data types for all fields\n",
    "df.dtypes"
   ]
  },
  {
   "cell_type": "markdown",
   "id": "sorted-research",
   "metadata": {
    "papermill": {
     "duration": 0.026757,
     "end_time": "2021-06-03T15:21:00.133876",
     "exception": false,
     "start_time": "2021-06-03T15:21:00.107119",
     "status": "completed"
    },
    "tags": []
   },
   "source": [
    "# **View the unique data by column.**\n",
    "There are a few columns we can convert to binary."
   ]
  },
  {
   "cell_type": "code",
   "execution_count": 5,
   "id": "arbitrary-injection",
   "metadata": {
    "execution": {
     "iopub.execute_input": "2021-06-03T15:21:00.190604Z",
     "iopub.status.busy": "2021-06-03T15:21:00.190062Z",
     "iopub.status.idle": "2021-06-03T15:21:00.203092Z",
     "shell.execute_reply": "2021-06-03T15:21:00.203620Z",
     "shell.execute_reply.started": "2021-06-03T14:55:31.286311Z"
    },
    "papermill": {
     "duration": 0.042877,
     "end_time": "2021-06-03T15:21:00.203777",
     "exception": false,
     "start_time": "2021-06-03T15:21:00.160900",
     "status": "completed"
    },
    "tags": []
   },
   "outputs": [
    {
     "data": {
      "text/plain": [
       "customerID          7043\n",
       "gender              7043\n",
       "SeniorCitizen       7043\n",
       "Partner             7043\n",
       "Dependents          7043\n",
       "tenure              7043\n",
       "PhoneService        7043\n",
       "MultipleLines       7043\n",
       "InternetService     7043\n",
       "OnlineSecurity      7043\n",
       "OnlineBackup        7043\n",
       "DeviceProtection    7043\n",
       "TechSupport         7043\n",
       "StreamingTV         7043\n",
       "StreamingMovies     7043\n",
       "Contract            7043\n",
       "PaperlessBilling    7043\n",
       "PaymentMethod       7043\n",
       "MonthlyCharges      7043\n",
       "TotalCharges        7043\n",
       "Churn               7043\n",
       "dtype: int64"
      ]
     },
     "execution_count": 5,
     "metadata": {},
     "output_type": "execute_result"
    }
   ],
   "source": [
    "df.count()"
   ]
  },
  {
   "cell_type": "code",
   "execution_count": 6,
   "id": "blank-savings",
   "metadata": {
    "execution": {
     "iopub.execute_input": "2021-06-03T15:21:00.270803Z",
     "iopub.status.busy": "2021-06-03T15:21:00.270207Z",
     "iopub.status.idle": "2021-06-03T15:21:00.308689Z",
     "shell.execute_reply": "2021-06-03T15:21:00.308020Z",
     "shell.execute_reply.started": "2021-06-03T13:16:57.196841Z"
    },
    "papermill": {
     "duration": 0.07769,
     "end_time": "2021-06-03T15:21:00.308872",
     "exception": false,
     "start_time": "2021-06-03T15:21:00.231182",
     "status": "completed"
    },
    "tags": []
   },
   "outputs": [
    {
     "name": "stdout",
     "output_type": "stream",
     "text": [
      "customerID\n",
      "['7590-VHVEG' '5575-GNVDE' '3668-QPYBK' ... '4801-JZAZL' '8361-LTMKD'\n",
      " '3186-AJIEK']\n",
      "gender\n",
      "['Female' 'Male']\n",
      "SeniorCitizen\n",
      "[0 1]\n",
      "Partner\n",
      "['Yes' 'No']\n",
      "Dependents\n",
      "['No' 'Yes']\n",
      "tenure\n",
      "[ 1 34  2 45  8 22 10 28 62 13 16 58 49 25 69 52 71 21 12 30 47 72 17 27\n",
      "  5 46 11 70 63 43 15 60 18 66  9  3 31 50 64 56  7 42 35 48 29 65 38 68\n",
      " 32 55 37 36 41  6  4 33 67 23 57 61 14 20 53 40 59 24 44 19 54 51 26  0\n",
      " 39]\n",
      "PhoneService\n",
      "['No' 'Yes']\n",
      "MultipleLines\n",
      "['No phone service' 'No' 'Yes']\n",
      "InternetService\n",
      "['DSL' 'Fiber optic' 'No']\n",
      "OnlineSecurity\n",
      "['No' 'Yes' 'No internet service']\n",
      "OnlineBackup\n",
      "['Yes' 'No' 'No internet service']\n",
      "DeviceProtection\n",
      "['No' 'Yes' 'No internet service']\n",
      "TechSupport\n",
      "['No' 'Yes' 'No internet service']\n",
      "StreamingTV\n",
      "['No' 'Yes' 'No internet service']\n",
      "StreamingMovies\n",
      "['No' 'Yes' 'No internet service']\n",
      "Contract\n",
      "['Month-to-month' 'One year' 'Two year']\n",
      "PaperlessBilling\n",
      "['Yes' 'No']\n",
      "PaymentMethod\n",
      "['Electronic check' 'Mailed check' 'Bank transfer (automatic)'\n",
      " 'Credit card (automatic)']\n",
      "MonthlyCharges\n",
      "[29.85 56.95 53.85 ... 63.1  44.2  78.7 ]\n",
      "TotalCharges\n",
      "['29.85' '1889.5' '108.15' ... '346.45' '306.6' '6844.5']\n",
      "Churn\n",
      "['No' 'Yes']\n"
     ]
    }
   ],
   "source": [
    "# print each item in df cols, see item.unique()\n",
    "# gives an idea which can be converted to binary\n",
    "for item in df.columns:\n",
    "    print(item)\n",
    "    print (df[item].unique())"
   ]
  },
  {
   "cell_type": "markdown",
   "id": "demonstrated-story",
   "metadata": {
    "papermill": {
     "duration": 0.028215,
     "end_time": "2021-06-03T15:21:00.374803",
     "exception": false,
     "start_time": "2021-06-03T15:21:00.346588",
     "status": "completed"
    },
    "tags": []
   },
   "source": [
    "# **convert strings to lowercase.**\n",
    "all strings to lower case in cols fields"
   ]
  },
  {
   "cell_type": "code",
   "execution_count": 7,
   "id": "union-potter",
   "metadata": {
    "execution": {
     "iopub.execute_input": "2021-06-03T15:21:00.450562Z",
     "iopub.status.busy": "2021-06-03T15:21:00.447379Z",
     "iopub.status.idle": "2021-06-03T15:21:00.508940Z",
     "shell.execute_reply": "2021-06-03T15:21:00.509325Z",
     "shell.execute_reply.started": "2021-06-03T13:16:57.238300Z"
    },
    "papermill": {
     "duration": 0.106736,
     "end_time": "2021-06-03T15:21:00.509497",
     "exception": false,
     "start_time": "2021-06-03T15:21:00.402761",
     "status": "completed"
    },
    "tags": []
   },
   "outputs": [
    {
     "name": "stdout",
     "output_type": "stream",
     "text": [
      "SeniorCitizen couldn't convert\n",
      "tenure couldn't convert\n",
      "MonthlyCharges couldn't convert\n"
     ]
    },
    {
     "data": {
      "text/html": [
       "<div>\n",
       "<style scoped>\n",
       "    .dataframe tbody tr th:only-of-type {\n",
       "        vertical-align: middle;\n",
       "    }\n",
       "\n",
       "    .dataframe tbody tr th {\n",
       "        vertical-align: top;\n",
       "    }\n",
       "\n",
       "    .dataframe thead th {\n",
       "        text-align: right;\n",
       "    }\n",
       "</style>\n",
       "<table border=\"1\" class=\"dataframe\">\n",
       "  <thead>\n",
       "    <tr style=\"text-align: right;\">\n",
       "      <th></th>\n",
       "      <th>customerID</th>\n",
       "      <th>gender</th>\n",
       "      <th>SeniorCitizen</th>\n",
       "      <th>Partner</th>\n",
       "      <th>Dependents</th>\n",
       "      <th>tenure</th>\n",
       "      <th>PhoneService</th>\n",
       "      <th>MultipleLines</th>\n",
       "      <th>InternetService</th>\n",
       "      <th>OnlineSecurity</th>\n",
       "      <th>...</th>\n",
       "      <th>DeviceProtection</th>\n",
       "      <th>TechSupport</th>\n",
       "      <th>StreamingTV</th>\n",
       "      <th>StreamingMovies</th>\n",
       "      <th>Contract</th>\n",
       "      <th>PaperlessBilling</th>\n",
       "      <th>PaymentMethod</th>\n",
       "      <th>MonthlyCharges</th>\n",
       "      <th>TotalCharges</th>\n",
       "      <th>Churn</th>\n",
       "    </tr>\n",
       "  </thead>\n",
       "  <tbody>\n",
       "    <tr>\n",
       "      <th>0</th>\n",
       "      <td>7590-vhveg</td>\n",
       "      <td>female</td>\n",
       "      <td>0</td>\n",
       "      <td>yes</td>\n",
       "      <td>no</td>\n",
       "      <td>1</td>\n",
       "      <td>no</td>\n",
       "      <td>no phone service</td>\n",
       "      <td>dsl</td>\n",
       "      <td>no</td>\n",
       "      <td>...</td>\n",
       "      <td>no</td>\n",
       "      <td>no</td>\n",
       "      <td>no</td>\n",
       "      <td>no</td>\n",
       "      <td>month-to-month</td>\n",
       "      <td>yes</td>\n",
       "      <td>electronic check</td>\n",
       "      <td>29.85</td>\n",
       "      <td>29.85</td>\n",
       "      <td>no</td>\n",
       "    </tr>\n",
       "    <tr>\n",
       "      <th>1</th>\n",
       "      <td>5575-gnvde</td>\n",
       "      <td>male</td>\n",
       "      <td>0</td>\n",
       "      <td>no</td>\n",
       "      <td>no</td>\n",
       "      <td>34</td>\n",
       "      <td>yes</td>\n",
       "      <td>no</td>\n",
       "      <td>dsl</td>\n",
       "      <td>yes</td>\n",
       "      <td>...</td>\n",
       "      <td>yes</td>\n",
       "      <td>no</td>\n",
       "      <td>no</td>\n",
       "      <td>no</td>\n",
       "      <td>one year</td>\n",
       "      <td>no</td>\n",
       "      <td>mailed check</td>\n",
       "      <td>56.95</td>\n",
       "      <td>1889.5</td>\n",
       "      <td>no</td>\n",
       "    </tr>\n",
       "    <tr>\n",
       "      <th>2</th>\n",
       "      <td>3668-qpybk</td>\n",
       "      <td>male</td>\n",
       "      <td>0</td>\n",
       "      <td>no</td>\n",
       "      <td>no</td>\n",
       "      <td>2</td>\n",
       "      <td>yes</td>\n",
       "      <td>no</td>\n",
       "      <td>dsl</td>\n",
       "      <td>yes</td>\n",
       "      <td>...</td>\n",
       "      <td>no</td>\n",
       "      <td>no</td>\n",
       "      <td>no</td>\n",
       "      <td>no</td>\n",
       "      <td>month-to-month</td>\n",
       "      <td>yes</td>\n",
       "      <td>mailed check</td>\n",
       "      <td>53.85</td>\n",
       "      <td>108.15</td>\n",
       "      <td>yes</td>\n",
       "    </tr>\n",
       "    <tr>\n",
       "      <th>3</th>\n",
       "      <td>7795-cfocw</td>\n",
       "      <td>male</td>\n",
       "      <td>0</td>\n",
       "      <td>no</td>\n",
       "      <td>no</td>\n",
       "      <td>45</td>\n",
       "      <td>no</td>\n",
       "      <td>no phone service</td>\n",
       "      <td>dsl</td>\n",
       "      <td>yes</td>\n",
       "      <td>...</td>\n",
       "      <td>yes</td>\n",
       "      <td>yes</td>\n",
       "      <td>no</td>\n",
       "      <td>no</td>\n",
       "      <td>one year</td>\n",
       "      <td>no</td>\n",
       "      <td>bank transfer (automatic)</td>\n",
       "      <td>42.30</td>\n",
       "      <td>1840.75</td>\n",
       "      <td>no</td>\n",
       "    </tr>\n",
       "    <tr>\n",
       "      <th>4</th>\n",
       "      <td>9237-hqitu</td>\n",
       "      <td>female</td>\n",
       "      <td>0</td>\n",
       "      <td>no</td>\n",
       "      <td>no</td>\n",
       "      <td>2</td>\n",
       "      <td>yes</td>\n",
       "      <td>no</td>\n",
       "      <td>fiber optic</td>\n",
       "      <td>no</td>\n",
       "      <td>...</td>\n",
       "      <td>no</td>\n",
       "      <td>no</td>\n",
       "      <td>no</td>\n",
       "      <td>no</td>\n",
       "      <td>month-to-month</td>\n",
       "      <td>yes</td>\n",
       "      <td>electronic check</td>\n",
       "      <td>70.70</td>\n",
       "      <td>151.65</td>\n",
       "      <td>yes</td>\n",
       "    </tr>\n",
       "  </tbody>\n",
       "</table>\n",
       "<p>5 rows × 21 columns</p>\n",
       "</div>"
      ],
      "text/plain": [
       "   customerID  gender  SeniorCitizen Partner Dependents  tenure PhoneService  \\\n",
       "0  7590-vhveg  female              0     yes         no       1           no   \n",
       "1  5575-gnvde    male              0      no         no      34          yes   \n",
       "2  3668-qpybk    male              0      no         no       2          yes   \n",
       "3  7795-cfocw    male              0      no         no      45           no   \n",
       "4  9237-hqitu  female              0      no         no       2          yes   \n",
       "\n",
       "      MultipleLines InternetService OnlineSecurity  ... DeviceProtection  \\\n",
       "0  no phone service             dsl             no  ...               no   \n",
       "1                no             dsl            yes  ...              yes   \n",
       "2                no             dsl            yes  ...               no   \n",
       "3  no phone service             dsl            yes  ...              yes   \n",
       "4                no     fiber optic             no  ...               no   \n",
       "\n",
       "  TechSupport StreamingTV StreamingMovies        Contract PaperlessBilling  \\\n",
       "0          no          no              no  month-to-month              yes   \n",
       "1          no          no              no        one year               no   \n",
       "2          no          no              no  month-to-month              yes   \n",
       "3         yes          no              no        one year               no   \n",
       "4          no          no              no  month-to-month              yes   \n",
       "\n",
       "               PaymentMethod MonthlyCharges  TotalCharges Churn  \n",
       "0           electronic check          29.85         29.85    no  \n",
       "1               mailed check          56.95        1889.5    no  \n",
       "2               mailed check          53.85        108.15   yes  \n",
       "3  bank transfer (automatic)          42.30       1840.75    no  \n",
       "4           electronic check          70.70        151.65   yes  \n",
       "\n",
       "[5 rows x 21 columns]"
      ]
     },
     "execution_count": 7,
     "metadata": {},
     "output_type": "execute_result"
    }
   ],
   "source": [
    "# convert colsname to lower case, throw exception couldnt convert\n",
    "for item in df.columns:\n",
    "    try:\n",
    "        df[item] = df[item].str.lower()\n",
    "    except:\n",
    "        print(item, \"couldn't convert\")\n",
    "df.head()"
   ]
  },
  {
   "cell_type": "markdown",
   "id": "rental-ethernet",
   "metadata": {
    "papermill": {
     "duration": 0.028561,
     "end_time": "2021-06-03T15:21:00.566858",
     "exception": false,
     "start_time": "2021-06-03T15:21:00.538297",
     "status": "completed"
    },
    "tags": []
   },
   "source": [
    "# **Convert all yes and no to 0's & 1's so our classifier can use this data.**\n",
    "all cols with value yes or no, convert to 0 or 1 respectively"
   ]
  },
  {
   "cell_type": "code",
   "execution_count": 8,
   "id": "relevant-knowing",
   "metadata": {
    "execution": {
     "iopub.execute_input": "2021-06-03T15:21:00.633657Z",
     "iopub.status.busy": "2021-06-03T15:21:00.632735Z",
     "iopub.status.idle": "2021-06-03T15:21:00.673551Z",
     "shell.execute_reply": "2021-06-03T15:21:00.673087Z",
     "shell.execute_reply.started": "2021-06-03T13:16:57.349683Z"
    },
    "papermill": {
     "duration": 0.077973,
     "end_time": "2021-06-03T15:21:00.673676",
     "exception": false,
     "start_time": "2021-06-03T15:21:00.595703",
     "status": "completed"
    },
    "tags": []
   },
   "outputs": [
    {
     "data": {
      "text/html": [
       "<div>\n",
       "<style scoped>\n",
       "    .dataframe tbody tr th:only-of-type {\n",
       "        vertical-align: middle;\n",
       "    }\n",
       "\n",
       "    .dataframe tbody tr th {\n",
       "        vertical-align: top;\n",
       "    }\n",
       "\n",
       "    .dataframe thead th {\n",
       "        text-align: right;\n",
       "    }\n",
       "</style>\n",
       "<table border=\"1\" class=\"dataframe\">\n",
       "  <thead>\n",
       "    <tr style=\"text-align: right;\">\n",
       "      <th></th>\n",
       "      <th>customerID</th>\n",
       "      <th>gender</th>\n",
       "      <th>SeniorCitizen</th>\n",
       "      <th>Partner</th>\n",
       "      <th>Dependents</th>\n",
       "      <th>tenure</th>\n",
       "      <th>PhoneService</th>\n",
       "      <th>MultipleLines</th>\n",
       "      <th>InternetService</th>\n",
       "      <th>OnlineSecurity</th>\n",
       "      <th>...</th>\n",
       "      <th>DeviceProtection</th>\n",
       "      <th>TechSupport</th>\n",
       "      <th>StreamingTV</th>\n",
       "      <th>StreamingMovies</th>\n",
       "      <th>Contract</th>\n",
       "      <th>PaperlessBilling</th>\n",
       "      <th>PaymentMethod</th>\n",
       "      <th>MonthlyCharges</th>\n",
       "      <th>TotalCharges</th>\n",
       "      <th>Churn</th>\n",
       "    </tr>\n",
       "  </thead>\n",
       "  <tbody>\n",
       "    <tr>\n",
       "      <th>0</th>\n",
       "      <td>7590-vhveg</td>\n",
       "      <td>female</td>\n",
       "      <td>0</td>\n",
       "      <td>1</td>\n",
       "      <td>0</td>\n",
       "      <td>1</td>\n",
       "      <td>0</td>\n",
       "      <td>no phone service</td>\n",
       "      <td>dsl</td>\n",
       "      <td>no</td>\n",
       "      <td>...</td>\n",
       "      <td>no</td>\n",
       "      <td>no</td>\n",
       "      <td>no</td>\n",
       "      <td>no</td>\n",
       "      <td>month-to-month</td>\n",
       "      <td>1</td>\n",
       "      <td>electronic check</td>\n",
       "      <td>29.85</td>\n",
       "      <td>29.85</td>\n",
       "      <td>0</td>\n",
       "    </tr>\n",
       "    <tr>\n",
       "      <th>1</th>\n",
       "      <td>5575-gnvde</td>\n",
       "      <td>male</td>\n",
       "      <td>0</td>\n",
       "      <td>0</td>\n",
       "      <td>0</td>\n",
       "      <td>34</td>\n",
       "      <td>1</td>\n",
       "      <td>no</td>\n",
       "      <td>dsl</td>\n",
       "      <td>yes</td>\n",
       "      <td>...</td>\n",
       "      <td>yes</td>\n",
       "      <td>no</td>\n",
       "      <td>no</td>\n",
       "      <td>no</td>\n",
       "      <td>one year</td>\n",
       "      <td>0</td>\n",
       "      <td>mailed check</td>\n",
       "      <td>56.95</td>\n",
       "      <td>1889.5</td>\n",
       "      <td>0</td>\n",
       "    </tr>\n",
       "    <tr>\n",
       "      <th>2</th>\n",
       "      <td>3668-qpybk</td>\n",
       "      <td>male</td>\n",
       "      <td>0</td>\n",
       "      <td>0</td>\n",
       "      <td>0</td>\n",
       "      <td>2</td>\n",
       "      <td>1</td>\n",
       "      <td>no</td>\n",
       "      <td>dsl</td>\n",
       "      <td>yes</td>\n",
       "      <td>...</td>\n",
       "      <td>no</td>\n",
       "      <td>no</td>\n",
       "      <td>no</td>\n",
       "      <td>no</td>\n",
       "      <td>month-to-month</td>\n",
       "      <td>1</td>\n",
       "      <td>mailed check</td>\n",
       "      <td>53.85</td>\n",
       "      <td>108.15</td>\n",
       "      <td>1</td>\n",
       "    </tr>\n",
       "    <tr>\n",
       "      <th>3</th>\n",
       "      <td>7795-cfocw</td>\n",
       "      <td>male</td>\n",
       "      <td>0</td>\n",
       "      <td>0</td>\n",
       "      <td>0</td>\n",
       "      <td>45</td>\n",
       "      <td>0</td>\n",
       "      <td>no phone service</td>\n",
       "      <td>dsl</td>\n",
       "      <td>yes</td>\n",
       "      <td>...</td>\n",
       "      <td>yes</td>\n",
       "      <td>yes</td>\n",
       "      <td>no</td>\n",
       "      <td>no</td>\n",
       "      <td>one year</td>\n",
       "      <td>0</td>\n",
       "      <td>bank transfer (automatic)</td>\n",
       "      <td>42.30</td>\n",
       "      <td>1840.75</td>\n",
       "      <td>0</td>\n",
       "    </tr>\n",
       "    <tr>\n",
       "      <th>4</th>\n",
       "      <td>9237-hqitu</td>\n",
       "      <td>female</td>\n",
       "      <td>0</td>\n",
       "      <td>0</td>\n",
       "      <td>0</td>\n",
       "      <td>2</td>\n",
       "      <td>1</td>\n",
       "      <td>no</td>\n",
       "      <td>fiber optic</td>\n",
       "      <td>no</td>\n",
       "      <td>...</td>\n",
       "      <td>no</td>\n",
       "      <td>no</td>\n",
       "      <td>no</td>\n",
       "      <td>no</td>\n",
       "      <td>month-to-month</td>\n",
       "      <td>1</td>\n",
       "      <td>electronic check</td>\n",
       "      <td>70.70</td>\n",
       "      <td>151.65</td>\n",
       "      <td>1</td>\n",
       "    </tr>\n",
       "  </tbody>\n",
       "</table>\n",
       "<p>5 rows × 21 columns</p>\n",
       "</div>"
      ],
      "text/plain": [
       "   customerID  gender  SeniorCitizen  Partner  Dependents  tenure  \\\n",
       "0  7590-vhveg  female              0        1           0       1   \n",
       "1  5575-gnvde    male              0        0           0      34   \n",
       "2  3668-qpybk    male              0        0           0       2   \n",
       "3  7795-cfocw    male              0        0           0      45   \n",
       "4  9237-hqitu  female              0        0           0       2   \n",
       "\n",
       "   PhoneService     MultipleLines InternetService OnlineSecurity  ...  \\\n",
       "0             0  no phone service             dsl             no  ...   \n",
       "1             1                no             dsl            yes  ...   \n",
       "2             1                no             dsl            yes  ...   \n",
       "3             0  no phone service             dsl            yes  ...   \n",
       "4             1                no     fiber optic             no  ...   \n",
       "\n",
       "  DeviceProtection TechSupport StreamingTV StreamingMovies        Contract  \\\n",
       "0               no          no          no              no  month-to-month   \n",
       "1              yes          no          no              no        one year   \n",
       "2               no          no          no              no  month-to-month   \n",
       "3              yes         yes          no              no        one year   \n",
       "4               no          no          no              no  month-to-month   \n",
       "\n",
       "  PaperlessBilling              PaymentMethod MonthlyCharges  TotalCharges  \\\n",
       "0                1           electronic check          29.85         29.85   \n",
       "1                0               mailed check          56.95        1889.5   \n",
       "2                1               mailed check          53.85        108.15   \n",
       "3                0  bank transfer (automatic)          42.30       1840.75   \n",
       "4                1           electronic check          70.70        151.65   \n",
       "\n",
       "  Churn  \n",
       "0     0  \n",
       "1     0  \n",
       "2     1  \n",
       "3     0  \n",
       "4     1  \n",
       "\n",
       "[5 rows x 21 columns]"
      ]
     },
     "execution_count": 8,
     "metadata": {},
     "output_type": "execute_result"
    }
   ],
   "source": [
    "# list columns to convert\n",
    "columns_to_convert = ['Partner', \n",
    "                      'Dependents', \n",
    "                      'PhoneService', \n",
    "                      'PaperlessBilling', \n",
    "                      'Churn']\n",
    "\n",
    "for item in columns_to_convert:\n",
    "    df[item].replace(to_replace='yes', value=1, inplace=True)\n",
    "    df[item].replace(to_replace='no',  value=0, inplace=True)\n",
    "df.head()"
   ]
  },
  {
   "cell_type": "code",
   "execution_count": 9,
   "id": "ideal-hormone",
   "metadata": {
    "execution": {
     "iopub.execute_input": "2021-06-03T15:21:00.738818Z",
     "iopub.status.busy": "2021-06-03T15:21:00.738251Z",
     "iopub.status.idle": "2021-06-03T15:21:00.742064Z",
     "shell.execute_reply": "2021-06-03T15:21:00.741652Z",
     "shell.execute_reply.started": "2021-06-03T13:16:57.417481Z"
    },
    "papermill": {
     "duration": 0.038787,
     "end_time": "2021-06-03T15:21:00.742192",
     "exception": false,
     "start_time": "2021-06-03T15:21:00.703405",
     "status": "completed"
    },
    "tags": []
   },
   "outputs": [
    {
     "data": {
      "text/plain": [
       "customerID           object\n",
       "gender               object\n",
       "SeniorCitizen         int64\n",
       "Partner               int64\n",
       "Dependents            int64\n",
       "tenure                int64\n",
       "PhoneService          int64\n",
       "MultipleLines        object\n",
       "InternetService      object\n",
       "OnlineSecurity       object\n",
       "OnlineBackup         object\n",
       "DeviceProtection     object\n",
       "TechSupport          object\n",
       "StreamingTV          object\n",
       "StreamingMovies      object\n",
       "Contract             object\n",
       "PaperlessBilling      int64\n",
       "PaymentMethod        object\n",
       "MonthlyCharges      float64\n",
       "TotalCharges         object\n",
       "Churn                 int64\n",
       "dtype: object"
      ]
     },
     "execution_count": 9,
     "metadata": {},
     "output_type": "execute_result"
    }
   ],
   "source": [
    "# see data types\n",
    "df.dtypes"
   ]
  },
  {
   "cell_type": "markdown",
   "id": "sized-humidity",
   "metadata": {
    "papermill": {
     "duration": 0.029524,
     "end_time": "2021-06-03T15:21:00.801476",
     "exception": false,
     "start_time": "2021-06-03T15:21:00.771952",
     "status": "completed"
    },
    "tags": []
   },
   "source": [
    "# **Check for NULLs**"
   ]
  },
  {
   "cell_type": "code",
   "execution_count": 10,
   "id": "structural-suggestion",
   "metadata": {
    "execution": {
     "iopub.execute_input": "2021-06-03T15:21:00.865214Z",
     "iopub.status.busy": "2021-06-03T15:21:00.864691Z",
     "iopub.status.idle": "2021-06-03T15:21:00.874333Z",
     "shell.execute_reply": "2021-06-03T15:21:00.874747Z",
     "shell.execute_reply.started": "2021-06-03T13:16:57.427256Z"
    },
    "papermill": {
     "duration": 0.043205,
     "end_time": "2021-06-03T15:21:00.874900",
     "exception": false,
     "start_time": "2021-06-03T15:21:00.831695",
     "status": "completed"
    },
    "tags": []
   },
   "outputs": [
    {
     "data": {
      "text/plain": [
       "customerID          0\n",
       "gender              0\n",
       "SeniorCitizen       0\n",
       "Partner             0\n",
       "Dependents          0\n",
       "tenure              0\n",
       "PhoneService        0\n",
       "MultipleLines       0\n",
       "InternetService     0\n",
       "OnlineSecurity      0\n",
       "OnlineBackup        0\n",
       "DeviceProtection    0\n",
       "TechSupport         0\n",
       "StreamingTV         0\n",
       "StreamingMovies     0\n",
       "Contract            0\n",
       "PaperlessBilling    0\n",
       "PaymentMethod       0\n",
       "MonthlyCharges      0\n",
       "TotalCharges        0\n",
       "Churn               0\n",
       "dtype: int64"
      ]
     },
     "execution_count": 10,
     "metadata": {},
     "output_type": "execute_result"
    }
   ],
   "source": [
    "# check for null values on cols\n",
    "df.isnull().sum()"
   ]
  },
  {
   "cell_type": "markdown",
   "id": "indoor-atlas",
   "metadata": {
    "papermill": {
     "duration": 0.030296,
     "end_time": "2021-06-03T15:21:00.935937",
     "exception": false,
     "start_time": "2021-06-03T15:21:00.905641",
     "status": "completed"
    },
    "tags": []
   },
   "source": [
    "# **We can see TotalCharges is still an object. Change TotalCharges to be float.**"
   ]
  },
  {
   "cell_type": "code",
   "execution_count": 11,
   "id": "plain-central",
   "metadata": {
    "execution": {
     "iopub.execute_input": "2021-06-03T15:21:01.000242Z",
     "iopub.status.busy": "2021-06-03T15:21:00.999729Z",
     "iopub.status.idle": "2021-06-03T15:21:01.006390Z",
     "shell.execute_reply": "2021-06-03T15:21:01.006772Z",
     "shell.execute_reply.started": "2021-06-03T13:16:57.455604Z"
    },
    "papermill": {
     "duration": 0.040059,
     "end_time": "2021-06-03T15:21:01.006941",
     "exception": false,
     "start_time": "2021-06-03T15:21:00.966882",
     "status": "completed"
    },
    "tags": []
   },
   "outputs": [
    {
     "data": {
      "text/plain": [
       "0         29.85\n",
       "1        1889.5\n",
       "2        108.15\n",
       "3       1840.75\n",
       "4        151.65\n",
       "         ...   \n",
       "7038     1990.5\n",
       "7039     7362.9\n",
       "7040     346.45\n",
       "7041      306.6\n",
       "7042     6844.5\n",
       "Name: TotalCharges, Length: 7043, dtype: object"
      ]
     },
     "execution_count": 11,
     "metadata": {},
     "output_type": "execute_result"
    }
   ],
   "source": [
    "df[\"TotalCharges\"]"
   ]
  },
  {
   "cell_type": "code",
   "execution_count": 12,
   "id": "minus-communication",
   "metadata": {
    "execution": {
     "iopub.execute_input": "2021-06-03T15:21:01.072484Z",
     "iopub.status.busy": "2021-06-03T15:21:01.071894Z",
     "iopub.status.idle": "2021-06-03T15:21:01.089656Z",
     "shell.execute_reply": "2021-06-03T15:21:01.090066Z",
     "shell.execute_reply.started": "2021-06-03T13:16:57.464818Z"
    },
    "papermill": {
     "duration": 0.052471,
     "end_time": "2021-06-03T15:21:01.090241",
     "exception": false,
     "start_time": "2021-06-03T15:21:01.037770",
     "status": "completed"
    },
    "tags": []
   },
   "outputs": [],
   "source": [
    "# convert all entries for totalcharges field to numerics\n",
    "# replace blanks with np.nan\n",
    "#df['TotalCharges'] = df['TotalCharges'].replace(' ', np.nan)\n",
    "df['TotalCharges'] = df['TotalCharges'].replace(r'\\s+', np.nan, regex=True)\n",
    "df['TotalCharges'] = pd.to_numeric(df['TotalCharges'])"
   ]
  },
  {
   "cell_type": "code",
   "execution_count": 13,
   "id": "incident-volume",
   "metadata": {
    "execution": {
     "iopub.execute_input": "2021-06-03T15:21:01.153896Z",
     "iopub.status.busy": "2021-06-03T15:21:01.153350Z",
     "iopub.status.idle": "2021-06-03T15:21:01.163767Z",
     "shell.execute_reply": "2021-06-03T15:21:01.164176Z",
     "shell.execute_reply.started": "2021-06-03T13:16:57.497405Z"
    },
    "papermill": {
     "duration": 0.043734,
     "end_time": "2021-06-03T15:21:01.164350",
     "exception": false,
     "start_time": "2021-06-03T15:21:01.120616",
     "status": "completed"
    },
    "tags": []
   },
   "outputs": [
    {
     "data": {
      "text/plain": [
       "customerID           0\n",
       "gender               0\n",
       "SeniorCitizen        0\n",
       "Partner              0\n",
       "Dependents           0\n",
       "tenure               0\n",
       "PhoneService         0\n",
       "MultipleLines        0\n",
       "InternetService      0\n",
       "OnlineSecurity       0\n",
       "OnlineBackup         0\n",
       "DeviceProtection     0\n",
       "TechSupport          0\n",
       "StreamingTV          0\n",
       "StreamingMovies      0\n",
       "Contract             0\n",
       "PaperlessBilling     0\n",
       "PaymentMethod        0\n",
       "MonthlyCharges       0\n",
       "TotalCharges        11\n",
       "Churn                0\n",
       "dtype: int64"
      ]
     },
     "execution_count": 13,
     "metadata": {},
     "output_type": "execute_result"
    }
   ],
   "source": [
    "# check for null values on cols\n",
    "df.isnull().sum()"
   ]
  },
  {
   "cell_type": "code",
   "execution_count": 14,
   "id": "strong-brush",
   "metadata": {
    "execution": {
     "iopub.execute_input": "2021-06-03T15:21:01.228858Z",
     "iopub.status.busy": "2021-06-03T15:21:01.228220Z",
     "iopub.status.idle": "2021-06-03T15:21:01.232755Z",
     "shell.execute_reply": "2021-06-03T15:21:01.233147Z",
     "shell.execute_reply.started": "2021-06-03T13:16:57.518573Z"
    },
    "papermill": {
     "duration": 0.038593,
     "end_time": "2021-06-03T15:21:01.233317",
     "exception": false,
     "start_time": "2021-06-03T15:21:01.194724",
     "status": "completed"
    },
    "tags": []
   },
   "outputs": [
    {
     "data": {
      "text/plain": [
       "2283.3004408418656"
      ]
     },
     "execution_count": 14,
     "metadata": {},
     "output_type": "execute_result"
    }
   ],
   "source": [
    "#mean of TotalCharges\n",
    "df['TotalCharges'].mean()"
   ]
  },
  {
   "cell_type": "code",
   "execution_count": 15,
   "id": "developed-dynamics",
   "metadata": {
    "execution": {
     "iopub.execute_input": "2021-06-03T15:21:01.298263Z",
     "iopub.status.busy": "2021-06-03T15:21:01.297729Z",
     "iopub.status.idle": "2021-06-03T15:21:01.303262Z",
     "shell.execute_reply": "2021-06-03T15:21:01.303788Z",
     "shell.execute_reply.started": "2021-06-03T13:16:57.528448Z"
    },
    "papermill": {
     "duration": 0.039234,
     "end_time": "2021-06-03T15:21:01.303970",
     "exception": false,
     "start_time": "2021-06-03T15:21:01.264736",
     "status": "completed"
    },
    "tags": []
   },
   "outputs": [],
   "source": [
    "#replacing the missing values in TotalCharges by mean of the cloumn\n",
    "df['TotalCharges'].fillna(df['TotalCharges'].mean())\n",
    "df['TotalCharges']=df['TotalCharges'].fillna(df['TotalCharges'].mean())"
   ]
  },
  {
   "cell_type": "code",
   "execution_count": 16,
   "id": "willing-value",
   "metadata": {
    "execution": {
     "iopub.execute_input": "2021-06-03T15:21:01.370940Z",
     "iopub.status.busy": "2021-06-03T15:21:01.370119Z",
     "iopub.status.idle": "2021-06-03T15:21:01.381121Z",
     "shell.execute_reply": "2021-06-03T15:21:01.381581Z",
     "shell.execute_reply.started": "2021-06-03T13:16:57.539044Z"
    },
    "papermill": {
     "duration": 0.045627,
     "end_time": "2021-06-03T15:21:01.381741",
     "exception": false,
     "start_time": "2021-06-03T15:21:01.336114",
     "status": "completed"
    },
    "tags": []
   },
   "outputs": [
    {
     "data": {
      "text/plain": [
       "customerID          0\n",
       "gender              0\n",
       "SeniorCitizen       0\n",
       "Partner             0\n",
       "Dependents          0\n",
       "tenure              0\n",
       "PhoneService        0\n",
       "MultipleLines       0\n",
       "InternetService     0\n",
       "OnlineSecurity      0\n",
       "OnlineBackup        0\n",
       "DeviceProtection    0\n",
       "TechSupport         0\n",
       "StreamingTV         0\n",
       "StreamingMovies     0\n",
       "Contract            0\n",
       "PaperlessBilling    0\n",
       "PaymentMethod       0\n",
       "MonthlyCharges      0\n",
       "TotalCharges        0\n",
       "Churn               0\n",
       "dtype: int64"
      ]
     },
     "execution_count": 16,
     "metadata": {},
     "output_type": "execute_result"
    }
   ],
   "source": [
    "# check for null values on cols\n",
    "df.isnull().sum()"
   ]
  },
  {
   "cell_type": "markdown",
   "id": "ambient-amendment",
   "metadata": {
    "papermill": {
     "duration": 0.030979,
     "end_time": "2021-06-03T15:21:01.443773",
     "exception": false,
     "start_time": "2021-06-03T15:21:01.412794",
     "status": "completed"
    },
    "tags": []
   },
   "source": [
    "# **Balance the labels so we have the same number of non-churners as churners.**"
   ]
  },
  {
   "cell_type": "code",
   "execution_count": 17,
   "id": "grave-logan",
   "metadata": {
    "execution": {
     "iopub.execute_input": "2021-06-03T15:21:01.509499Z",
     "iopub.status.busy": "2021-06-03T15:21:01.508605Z",
     "iopub.status.idle": "2021-06-03T15:21:01.540555Z",
     "shell.execute_reply": "2021-06-03T15:21:01.540995Z",
     "shell.execute_reply.started": "2021-06-03T13:16:57.565105Z"
    },
    "papermill": {
     "duration": 0.066266,
     "end_time": "2021-06-03T15:21:01.541152",
     "exception": false,
     "start_time": "2021-06-03T15:21:01.474886",
     "status": "completed"
    },
    "tags": []
   },
   "outputs": [
    {
     "name": "stdout",
     "output_type": "stream",
     "text": [
      "Number of churners 1869\n",
      "Number of non-churners 1869\n"
     ]
    }
   ],
   "source": [
    "churners_number = len(df[df['Churn'] == 1])\n",
    "print(\"Number of churners\", churners_number)\n",
    "\n",
    "churners = (df[df['Churn'] == 1])\n",
    "\n",
    "non_churners = df[df['Churn'] == 0].sample(n=churners_number)\n",
    "print(\"Number of non-churners\", len(non_churners))\n",
    "df2 = churners.append(non_churners)"
   ]
  },
  {
   "cell_type": "markdown",
   "id": "practical-ferry",
   "metadata": {
    "papermill": {
     "duration": 0.031276,
     "end_time": "2021-06-03T15:21:01.603510",
     "exception": false,
     "start_time": "2021-06-03T15:21:01.572234",
     "status": "completed"
    },
    "tags": []
   },
   "source": [
    "# **Classifier**\n",
    "Are there any strong correlations?"
   ]
  },
  {
   "cell_type": "code",
   "execution_count": 18,
   "id": "imperial-young",
   "metadata": {
    "execution": {
     "iopub.execute_input": "2021-06-03T15:21:01.668855Z",
     "iopub.status.busy": "2021-06-03T15:21:01.668312Z",
     "iopub.status.idle": "2021-06-03T15:21:02.256546Z",
     "shell.execute_reply": "2021-06-03T15:21:02.257010Z",
     "shell.execute_reply.started": "2021-06-03T13:16:57.602417Z"
    },
    "papermill": {
     "duration": 0.622563,
     "end_time": "2021-06-03T15:21:02.257168",
     "exception": false,
     "start_time": "2021-06-03T15:21:01.634605",
     "status": "completed"
    },
    "tags": []
   },
   "outputs": [
    {
     "data": {
      "image/png": "[encoded data removed]",
      "text/plain": [
       "<Figure size 1440x720 with 2 Axes>"
      ]
     },
     "metadata": {
      "needs_background": "light"
     },
     "output_type": "display_data"
    }
   ],
   "source": [
    "def show_correlations(dataframe, show_chart = True):\n",
    "    fig = plt.figure(figsize = (20,10))\n",
    "    corr = dataframe.corr()\n",
    "    if show_chart == True:\n",
    "        sns.heatmap(corr, \n",
    "                    xticklabels=corr.columns.values,\n",
    "                    yticklabels=corr.columns.values,\n",
    "                    annot=True)\n",
    "    return corr\n",
    "\n",
    "correlation_df = show_correlations(df2,show_chart=True)"
   ]
  },
  {
   "cell_type": "markdown",
   "id": "incorrect-microwave",
   "metadata": {
    "papermill": {
     "duration": 0.033432,
     "end_time": "2021-06-03T15:21:02.323895",
     "exception": false,
     "start_time": "2021-06-03T15:21:02.290463",
     "status": "completed"
    },
    "tags": []
   },
   "source": [
    "# **Dropping Cutomer ID Column**"
   ]
  },
  {
   "cell_type": "code",
   "execution_count": 19,
   "id": "rolled-feeling",
   "metadata": {
    "execution": {
     "iopub.execute_input": "2021-06-03T15:21:02.394822Z",
     "iopub.status.busy": "2021-06-03T15:21:02.394169Z",
     "iopub.status.idle": "2021-06-03T15:21:02.400771Z",
     "shell.execute_reply": "2021-06-03T15:21:02.400300Z",
     "shell.execute_reply.started": "2021-06-03T13:16:58.370637Z"
    },
    "papermill": {
     "duration": 0.043915,
     "end_time": "2021-06-03T15:21:02.400911",
     "exception": false,
     "start_time": "2021-06-03T15:21:02.356996",
     "status": "completed"
    },
    "tags": []
   },
   "outputs": [],
   "source": [
    "#dropping customerID to build a classifier\n",
    "df2.drop('customerID',axis=1,inplace=True)"
   ]
  },
  {
   "cell_type": "code",
   "execution_count": 20,
   "id": "empirical-narrow",
   "metadata": {
    "execution": {
     "iopub.execute_input": "2021-06-03T15:21:02.478194Z",
     "iopub.status.busy": "2021-06-03T15:21:02.477615Z",
     "iopub.status.idle": "2021-06-03T15:21:02.488914Z",
     "shell.execute_reply": "2021-06-03T15:21:02.488320Z",
     "shell.execute_reply.started": "2021-06-03T13:16:58.379850Z"
    },
    "papermill": {
     "duration": 0.054965,
     "end_time": "2021-06-03T15:21:02.489041",
     "exception": false,
     "start_time": "2021-06-03T15:21:02.434076",
     "status": "completed"
    },
    "tags": []
   },
   "outputs": [
    {
     "data": {
      "text/html": [
       "<div>\n",
       "<style scoped>\n",
       "    .dataframe tbody tr th:only-of-type {\n",
       "        vertical-align: middle;\n",
       "    }\n",
       "\n",
       "    .dataframe tbody tr th {\n",
       "        vertical-align: top;\n",
       "    }\n",
       "\n",
       "    .dataframe thead th {\n",
       "        text-align: right;\n",
       "    }\n",
       "</style>\n",
       "<table border=\"1\" class=\"dataframe\">\n",
       "  <thead>\n",
       "    <tr style=\"text-align: right;\">\n",
       "      <th></th>\n",
       "      <th>gender</th>\n",
       "      <th>SeniorCitizen</th>\n",
       "      <th>Partner</th>\n",
       "      <th>Dependents</th>\n",
       "      <th>tenure</th>\n",
       "      <th>PhoneService</th>\n",
       "      <th>MultipleLines</th>\n",
       "      <th>InternetService</th>\n",
       "      <th>OnlineSecurity</th>\n",
       "      <th>OnlineBackup</th>\n",
       "      <th>DeviceProtection</th>\n",
       "      <th>TechSupport</th>\n",
       "      <th>StreamingTV</th>\n",
       "      <th>StreamingMovies</th>\n",
       "      <th>Contract</th>\n",
       "      <th>PaperlessBilling</th>\n",
       "      <th>PaymentMethod</th>\n",
       "      <th>MonthlyCharges</th>\n",
       "      <th>TotalCharges</th>\n",
       "      <th>Churn</th>\n",
       "    </tr>\n",
       "  </thead>\n",
       "  <tbody>\n",
       "    <tr>\n",
       "      <th>2</th>\n",
       "      <td>male</td>\n",
       "      <td>0</td>\n",
       "      <td>0</td>\n",
       "      <td>0</td>\n",
       "      <td>2</td>\n",
       "      <td>1</td>\n",
       "      <td>no</td>\n",
       "      <td>dsl</td>\n",
       "      <td>yes</td>\n",
       "      <td>yes</td>\n",
       "      <td>no</td>\n",
       "      <td>no</td>\n",
       "      <td>no</td>\n",
       "      <td>no</td>\n",
       "      <td>month-to-month</td>\n",
       "      <td>1</td>\n",
       "      <td>mailed check</td>\n",
       "      <td>53.85</td>\n",
       "      <td>108.15</td>\n",
       "      <td>1</td>\n",
       "    </tr>\n",
       "    <tr>\n",
       "      <th>4</th>\n",
       "      <td>female</td>\n",
       "      <td>0</td>\n",
       "      <td>0</td>\n",
       "      <td>0</td>\n",
       "      <td>2</td>\n",
       "      <td>1</td>\n",
       "      <td>no</td>\n",
       "      <td>fiber optic</td>\n",
       "      <td>no</td>\n",
       "      <td>no</td>\n",
       "      <td>no</td>\n",
       "      <td>no</td>\n",
       "      <td>no</td>\n",
       "      <td>no</td>\n",
       "      <td>month-to-month</td>\n",
       "      <td>1</td>\n",
       "      <td>electronic check</td>\n",
       "      <td>70.70</td>\n",
       "      <td>151.65</td>\n",
       "      <td>1</td>\n",
       "    </tr>\n",
       "    <tr>\n",
       "      <th>5</th>\n",
       "      <td>female</td>\n",
       "      <td>0</td>\n",
       "      <td>0</td>\n",
       "      <td>0</td>\n",
       "      <td>8</td>\n",
       "      <td>1</td>\n",
       "      <td>yes</td>\n",
       "      <td>fiber optic</td>\n",
       "      <td>no</td>\n",
       "      <td>no</td>\n",
       "      <td>yes</td>\n",
       "      <td>no</td>\n",
       "      <td>yes</td>\n",
       "      <td>yes</td>\n",
       "      <td>month-to-month</td>\n",
       "      <td>1</td>\n",
       "      <td>electronic check</td>\n",
       "      <td>99.65</td>\n",
       "      <td>820.50</td>\n",
       "      <td>1</td>\n",
       "    </tr>\n",
       "    <tr>\n",
       "      <th>8</th>\n",
       "      <td>female</td>\n",
       "      <td>0</td>\n",
       "      <td>1</td>\n",
       "      <td>0</td>\n",
       "      <td>28</td>\n",
       "      <td>1</td>\n",
       "      <td>yes</td>\n",
       "      <td>fiber optic</td>\n",
       "      <td>no</td>\n",
       "      <td>no</td>\n",
       "      <td>yes</td>\n",
       "      <td>yes</td>\n",
       "      <td>yes</td>\n",
       "      <td>yes</td>\n",
       "      <td>month-to-month</td>\n",
       "      <td>1</td>\n",
       "      <td>electronic check</td>\n",
       "      <td>104.80</td>\n",
       "      <td>3046.05</td>\n",
       "      <td>1</td>\n",
       "    </tr>\n",
       "    <tr>\n",
       "      <th>13</th>\n",
       "      <td>male</td>\n",
       "      <td>0</td>\n",
       "      <td>0</td>\n",
       "      <td>0</td>\n",
       "      <td>49</td>\n",
       "      <td>1</td>\n",
       "      <td>yes</td>\n",
       "      <td>fiber optic</td>\n",
       "      <td>no</td>\n",
       "      <td>yes</td>\n",
       "      <td>yes</td>\n",
       "      <td>no</td>\n",
       "      <td>yes</td>\n",
       "      <td>yes</td>\n",
       "      <td>month-to-month</td>\n",
       "      <td>1</td>\n",
       "      <td>bank transfer (automatic)</td>\n",
       "      <td>103.70</td>\n",
       "      <td>5036.30</td>\n",
       "      <td>1</td>\n",
       "    </tr>\n",
       "  </tbody>\n",
       "</table>\n",
       "</div>"
      ],
      "text/plain": [
       "    gender  SeniorCitizen  Partner  Dependents  tenure  PhoneService  \\\n",
       "2     male              0        0           0       2             1   \n",
       "4   female              0        0           0       2             1   \n",
       "5   female              0        0           0       8             1   \n",
       "8   female              0        1           0      28             1   \n",
       "13    male              0        0           0      49             1   \n",
       "\n",
       "   MultipleLines InternetService OnlineSecurity OnlineBackup DeviceProtection  \\\n",
       "2             no             dsl            yes          yes               no   \n",
       "4             no     fiber optic             no           no               no   \n",
       "5            yes     fiber optic             no           no              yes   \n",
       "8            yes     fiber optic             no           no              yes   \n",
       "13           yes     fiber optic             no          yes              yes   \n",
       "\n",
       "   TechSupport StreamingTV StreamingMovies        Contract  PaperlessBilling  \\\n",
       "2           no          no              no  month-to-month                 1   \n",
       "4           no          no              no  month-to-month                 1   \n",
       "5           no         yes             yes  month-to-month                 1   \n",
       "8          yes         yes             yes  month-to-month                 1   \n",
       "13          no         yes             yes  month-to-month                 1   \n",
       "\n",
       "                PaymentMethod  MonthlyCharges  TotalCharges  Churn  \n",
       "2                mailed check           53.85        108.15      1  \n",
       "4            electronic check           70.70        151.65      1  \n",
       "5            electronic check           99.65        820.50      1  \n",
       "8            electronic check          104.80       3046.05      1  \n",
       "13  bank transfer (automatic)          103.70       5036.30      1  "
      ]
     },
     "execution_count": 20,
     "metadata": {},
     "output_type": "execute_result"
    }
   ],
   "source": [
    "df2.head()"
   ]
  },
  {
   "cell_type": "markdown",
   "id": "editorial-premiere",
   "metadata": {
    "papermill": {
     "duration": 0.033481,
     "end_time": "2021-06-03T15:21:02.556025",
     "exception": false,
     "start_time": "2021-06-03T15:21:02.522544",
     "status": "completed"
    },
    "tags": []
   },
   "source": [
    "# **Use one-hot encoding to convert categorical data to binary (0 or 1)**"
   ]
  },
  {
   "cell_type": "code",
   "execution_count": 21,
   "id": "contemporary-afghanistan",
   "metadata": {
    "execution": {
     "iopub.execute_input": "2021-06-03T15:21:02.625610Z",
     "iopub.status.busy": "2021-06-03T15:21:02.625032Z",
     "iopub.status.idle": "2021-06-03T15:21:02.665204Z",
     "shell.execute_reply": "2021-06-03T15:21:02.664754Z",
     "shell.execute_reply.started": "2021-06-03T13:16:58.408458Z"
    },
    "papermill": {
     "duration": 0.075884,
     "end_time": "2021-06-03T15:21:02.665351",
     "exception": false,
     "start_time": "2021-06-03T15:21:02.589467",
     "status": "completed"
    },
    "tags": []
   },
   "outputs": [
    {
     "data": {
      "text/html": [
       "<div>\n",
       "<style scoped>\n",
       "    .dataframe tbody tr th:only-of-type {\n",
       "        vertical-align: middle;\n",
       "    }\n",
       "\n",
       "    .dataframe tbody tr th {\n",
       "        vertical-align: top;\n",
       "    }\n",
       "\n",
       "    .dataframe thead th {\n",
       "        text-align: right;\n",
       "    }\n",
       "</style>\n",
       "<table border=\"1\" class=\"dataframe\">\n",
       "  <thead>\n",
       "    <tr style=\"text-align: right;\">\n",
       "      <th></th>\n",
       "      <th>SeniorCitizen</th>\n",
       "      <th>Partner</th>\n",
       "      <th>Dependents</th>\n",
       "      <th>tenure</th>\n",
       "      <th>PhoneService</th>\n",
       "      <th>PaperlessBilling</th>\n",
       "      <th>MonthlyCharges</th>\n",
       "      <th>TotalCharges</th>\n",
       "      <th>Churn</th>\n",
       "      <th>gender_female</th>\n",
       "      <th>...</th>\n",
       "      <th>StreamingMovies_no</th>\n",
       "      <th>StreamingMovies_no internet service</th>\n",
       "      <th>StreamingMovies_yes</th>\n",
       "      <th>Contract_month-to-month</th>\n",
       "      <th>Contract_one year</th>\n",
       "      <th>Contract_two year</th>\n",
       "      <th>PaymentMethod_bank transfer (automatic)</th>\n",
       "      <th>PaymentMethod_credit card (automatic)</th>\n",
       "      <th>PaymentMethod_electronic check</th>\n",
       "      <th>PaymentMethod_mailed check</th>\n",
       "    </tr>\n",
       "  </thead>\n",
       "  <tbody>\n",
       "    <tr>\n",
       "      <th>2</th>\n",
       "      <td>0</td>\n",
       "      <td>0</td>\n",
       "      <td>0</td>\n",
       "      <td>2</td>\n",
       "      <td>1</td>\n",
       "      <td>1</td>\n",
       "      <td>53.85</td>\n",
       "      <td>108.15</td>\n",
       "      <td>1</td>\n",
       "      <td>0</td>\n",
       "      <td>...</td>\n",
       "      <td>1</td>\n",
       "      <td>0</td>\n",
       "      <td>0</td>\n",
       "      <td>1</td>\n",
       "      <td>0</td>\n",
       "      <td>0</td>\n",
       "      <td>0</td>\n",
       "      <td>0</td>\n",
       "      <td>0</td>\n",
       "      <td>1</td>\n",
       "    </tr>\n",
       "    <tr>\n",
       "      <th>4</th>\n",
       "      <td>0</td>\n",
       "      <td>0</td>\n",
       "      <td>0</td>\n",
       "      <td>2</td>\n",
       "      <td>1</td>\n",
       "      <td>1</td>\n",
       "      <td>70.70</td>\n",
       "      <td>151.65</td>\n",
       "      <td>1</td>\n",
       "      <td>1</td>\n",
       "      <td>...</td>\n",
       "      <td>1</td>\n",
       "      <td>0</td>\n",
       "      <td>0</td>\n",
       "      <td>1</td>\n",
       "      <td>0</td>\n",
       "      <td>0</td>\n",
       "      <td>0</td>\n",
       "      <td>0</td>\n",
       "      <td>1</td>\n",
       "      <td>0</td>\n",
       "    </tr>\n",
       "    <tr>\n",
       "      <th>5</th>\n",
       "      <td>0</td>\n",
       "      <td>0</td>\n",
       "      <td>0</td>\n",
       "      <td>8</td>\n",
       "      <td>1</td>\n",
       "      <td>1</td>\n",
       "      <td>99.65</td>\n",
       "      <td>820.50</td>\n",
       "      <td>1</td>\n",
       "      <td>1</td>\n",
       "      <td>...</td>\n",
       "      <td>0</td>\n",
       "      <td>0</td>\n",
       "      <td>1</td>\n",
       "      <td>1</td>\n",
       "      <td>0</td>\n",
       "      <td>0</td>\n",
       "      <td>0</td>\n",
       "      <td>0</td>\n",
       "      <td>1</td>\n",
       "      <td>0</td>\n",
       "    </tr>\n",
       "    <tr>\n",
       "      <th>8</th>\n",
       "      <td>0</td>\n",
       "      <td>1</td>\n",
       "      <td>0</td>\n",
       "      <td>28</td>\n",
       "      <td>1</td>\n",
       "      <td>1</td>\n",
       "      <td>104.80</td>\n",
       "      <td>3046.05</td>\n",
       "      <td>1</td>\n",
       "      <td>1</td>\n",
       "      <td>...</td>\n",
       "      <td>0</td>\n",
       "      <td>0</td>\n",
       "      <td>1</td>\n",
       "      <td>1</td>\n",
       "      <td>0</td>\n",
       "      <td>0</td>\n",
       "      <td>0</td>\n",
       "      <td>0</td>\n",
       "      <td>1</td>\n",
       "      <td>0</td>\n",
       "    </tr>\n",
       "    <tr>\n",
       "      <th>13</th>\n",
       "      <td>0</td>\n",
       "      <td>0</td>\n",
       "      <td>0</td>\n",
       "      <td>49</td>\n",
       "      <td>1</td>\n",
       "      <td>1</td>\n",
       "      <td>103.70</td>\n",
       "      <td>5036.30</td>\n",
       "      <td>1</td>\n",
       "      <td>0</td>\n",
       "      <td>...</td>\n",
       "      <td>0</td>\n",
       "      <td>0</td>\n",
       "      <td>1</td>\n",
       "      <td>1</td>\n",
       "      <td>0</td>\n",
       "      <td>0</td>\n",
       "      <td>1</td>\n",
       "      <td>0</td>\n",
       "      <td>0</td>\n",
       "      <td>0</td>\n",
       "    </tr>\n",
       "  </tbody>\n",
       "</table>\n",
       "<p>5 rows × 42 columns</p>\n",
       "</div>"
      ],
      "text/plain": [
       "    SeniorCitizen  Partner  Dependents  tenure  PhoneService  \\\n",
       "2               0        0           0       2             1   \n",
       "4               0        0           0       2             1   \n",
       "5               0        0           0       8             1   \n",
       "8               0        1           0      28             1   \n",
       "13              0        0           0      49             1   \n",
       "\n",
       "    PaperlessBilling  MonthlyCharges  TotalCharges  Churn  gender_female  ...  \\\n",
       "2                  1           53.85        108.15      1              0  ...   \n",
       "4                  1           70.70        151.65      1              1  ...   \n",
       "5                  1           99.65        820.50      1              1  ...   \n",
       "8                  1          104.80       3046.05      1              1  ...   \n",
       "13                 1          103.70       5036.30      1              0  ...   \n",
       "\n",
       "    StreamingMovies_no  StreamingMovies_no internet service  \\\n",
       "2                    1                                    0   \n",
       "4                    1                                    0   \n",
       "5                    0                                    0   \n",
       "8                    0                                    0   \n",
       "13                   0                                    0   \n",
       "\n",
       "    StreamingMovies_yes  Contract_month-to-month  Contract_one year  \\\n",
       "2                     0                        1                  0   \n",
       "4                     0                        1                  0   \n",
       "5                     1                        1                  0   \n",
       "8                     1                        1                  0   \n",
       "13                    1                        1                  0   \n",
       "\n",
       "    Contract_two year  PaymentMethod_bank transfer (automatic)  \\\n",
       "2                   0                                        0   \n",
       "4                   0                                        0   \n",
       "5                   0                                        0   \n",
       "8                   0                                        0   \n",
       "13                  0                                        1   \n",
       "\n",
       "    PaymentMethod_credit card (automatic)  PaymentMethod_electronic check  \\\n",
       "2                                       0                               0   \n",
       "4                                       0                               1   \n",
       "5                                       0                               1   \n",
       "8                                       0                               1   \n",
       "13                                      0                               0   \n",
       "\n",
       "    PaymentMethod_mailed check  \n",
       "2                            1  \n",
       "4                            0  \n",
       "5                            0  \n",
       "8                            0  \n",
       "13                           0  \n",
       "\n",
       "[5 rows x 42 columns]"
      ]
     },
     "execution_count": 21,
     "metadata": {},
     "output_type": "execute_result"
    }
   ],
   "source": [
    "# get_dummies\n",
    "ml_dummies = pd.get_dummies(df2)\n",
    "ml_dummies.fillna(value=0, inplace=True)\n",
    "ml_dummies.head()"
   ]
  },
  {
   "cell_type": "code",
   "execution_count": 22,
   "id": "pacific-administration",
   "metadata": {
    "execution": {
     "iopub.execute_input": "2021-06-03T15:21:02.739148Z",
     "iopub.status.busy": "2021-06-03T15:21:02.738564Z",
     "iopub.status.idle": "2021-06-03T15:21:02.764257Z",
     "shell.execute_reply": "2021-06-03T15:21:02.764746Z",
     "shell.execute_reply.started": "2021-06-03T13:16:58.456365Z"
    },
    "papermill": {
     "duration": 0.06576,
     "end_time": "2021-06-03T15:21:02.764897",
     "exception": false,
     "start_time": "2021-06-03T15:21:02.699137",
     "status": "completed"
    },
    "tags": []
   },
   "outputs": [
    {
     "data": {
      "text/plain": [
       "Churn                                      1.000000\n",
       "Contract_month-to-month                    0.471803\n",
       "OnlineSecurity_no                          0.389476\n",
       "TechSupport_no                             0.387860\n",
       "InternetService_fiber optic                0.354930\n",
       "PaymentMethod_electronic check             0.336440\n",
       "OnlineBackup_no                            0.286937\n",
       "DeviceProtection_no                        0.279332\n",
       "MonthlyCharges                             0.235776\n",
       "PaperlessBilling                           0.200185\n",
       "SeniorCitizen                              0.180663\n",
       "StreamingTV_no                             0.135929\n",
       "StreamingMovies_no                         0.123399\n",
       "StreamingMovies_yes                        0.086450\n",
       "StreamingTV_yes                            0.073739\n",
       "MultipleLines_yes                          0.054067\n",
       "gender_female                              0.019799\n",
       "PhoneService                               0.017251\n",
       "MultipleLines_no phone service            -0.017251\n",
       "gender_male                               -0.019799\n",
       "MultipleLines_no                          -0.043389\n",
       "DeviceProtection_yes                      -0.076943\n",
       "OnlineBackup_yes                          -0.085473\n",
       "PaymentMethod_mailed check                -0.127157\n",
       "PaymentMethod_credit card (automatic)     -0.143068\n",
       "PaymentMethod_bank transfer (automatic)   -0.146213\n",
       "Partner                                   -0.150124\n",
       "InternetService_dsl                       -0.158361\n",
       "Dependents                                -0.187506\n",
       "TechSupport_yes                           -0.201682\n",
       "OnlineSecurity_yes                        -0.204405\n",
       "Contract_one year                         -0.214701\n",
       "TotalCharges                              -0.224681\n",
       "DeviceProtection_no internet service      -0.279612\n",
       "StreamingMovies_no internet service       -0.279612\n",
       "InternetService_no                        -0.279612\n",
       "StreamingTV_no internet service           -0.279612\n",
       "OnlineSecurity_no internet service        -0.279612\n",
       "TechSupport_no internet service           -0.279612\n",
       "OnlineBackup_no internet service          -0.279612\n",
       "Contract_two year                         -0.381146\n",
       "tenure                                    -0.402110\n",
       "Name: Churn, dtype: float64"
      ]
     },
     "execution_count": 22,
     "metadata": {},
     "output_type": "execute_result"
    },
    {
     "data": {
      "text/plain": [
       "<Figure size 1440x720 with 0 Axes>"
      ]
     },
     "metadata": {},
     "output_type": "display_data"
    }
   ],
   "source": [
    "# sort values\n",
    "show_correlations(ml_dummies, show_chart=False)[\"Churn\"].sort_values(ascending=False)"
   ]
  },
  {
   "cell_type": "code",
   "execution_count": 23,
   "id": "designing-intro",
   "metadata": {
    "execution": {
     "iopub.execute_input": "2021-06-03T15:21:02.838713Z",
     "iopub.status.busy": "2021-06-03T15:21:02.837820Z",
     "iopub.status.idle": "2021-06-03T15:21:02.842547Z",
     "shell.execute_reply": "2021-06-03T15:21:02.843006Z",
     "shell.execute_reply.started": "2021-06-03T13:16:58.489302Z"
    },
    "papermill": {
     "duration": 0.043563,
     "end_time": "2021-06-03T15:21:02.843167",
     "exception": false,
     "start_time": "2021-06-03T15:21:02.799604",
     "status": "completed"
    },
    "tags": []
   },
   "outputs": [],
   "source": [
    "# remove the label before training\n",
    "try:\n",
    "    label = ml_dummies['Churn'] # Remove the label before training the model\n",
    "    del ml_dummies['Churn']\n",
    "except:\n",
    "    print(\"label already removed.\")"
   ]
  },
  {
   "cell_type": "markdown",
   "id": "absolute-address",
   "metadata": {
    "papermill": {
     "duration": 0.034284,
     "end_time": "2021-06-03T15:21:02.912169",
     "exception": false,
     "start_time": "2021-06-03T15:21:02.877885",
     "status": "completed"
    },
    "tags": []
   },
   "source": [
    "# **Using KNeighborsClassifier and DecisionTreeClassifier**\n",
    "from sklearn.tree import DecisionTreeClassifier"
   ]
  },
  {
   "cell_type": "code",
   "execution_count": 24,
   "id": "headed-indiana",
   "metadata": {
    "execution": {
     "iopub.execute_input": "2021-06-03T15:21:02.984253Z",
     "iopub.status.busy": "2021-06-03T15:21:02.983407Z",
     "iopub.status.idle": "2021-06-03T15:21:04.142630Z",
     "shell.execute_reply": "2021-06-03T15:21:04.143103Z",
     "shell.execute_reply.started": "2021-06-03T13:16:58.499670Z"
    },
    "papermill": {
     "duration": 1.196663,
     "end_time": "2021-06-03T15:21:04.143313",
     "exception": false,
     "start_time": "2021-06-03T15:21:02.946650",
     "status": "completed"
    },
    "tags": []
   },
   "outputs": [
    {
     "name": "stdout",
     "output_type": "stream",
     "text": [
      "KNeighborsClassifier\n",
      "0.709 \n",
      " - - - - -  \n",
      "\n",
      "DecisionTreeClassifier\n",
      "0.758 \n",
      " - - - - -  \n",
      "\n"
     ]
    },
    {
     "data": {
      "text/plain": [
       "<AxesSubplot:ylabel='features'>"
      ]
     },
     "execution_count": 24,
     "metadata": {},
     "output_type": "execute_result"
    },
    {
     "data": {
      "image/png": "[encoded data removed]",
      "text/plain": [
       "<Figure size 1440x1080 with 1 Axes>"
      ]
     },
     "metadata": {
      "needs_background": "light"
     },
     "output_type": "display_data"
    }
   ],
   "source": [
    "from sklearn.model_selection import train_test_split\n",
    "feature_train, feature_test, label_train, label_test = train_test_split(ml_dummies, label, test_size=0.3)\n",
    "\n",
    "# Classifiers\n",
    "from sklearn.neighbors import KNeighborsClassifier\n",
    "from sklearn.tree import DecisionTreeClassifier\n",
    "\n",
    "classifiers = [\n",
    "    KNeighborsClassifier(5),    \n",
    "    DecisionTreeClassifier(max_depth=5)\n",
    "]\n",
    "    \n",
    "\n",
    "# iterate over classifiers\n",
    "for item in classifiers:\n",
    "    classifier_name = ((str(item)[:(str(item).find(\"(\"))]))\n",
    "    print (classifier_name)\n",
    "    \n",
    "    # Create classifier, train it and test it.\n",
    "    clf = item\n",
    "    clf.fit(feature_train, label_train)\n",
    "    pred = clf.predict(feature_test)\n",
    "    score = clf.score(feature_test, label_test)\n",
    "    print (round(score,3),\"\\n\", \"- - - - - \", \"\\n\")\n",
    "    \n",
    "feature_df = pd.DataFrame()\n",
    "feature_df['features'] = ml_dummies.columns\n",
    "feature_df['importance'] = clf.feature_importances_\n",
    "feature_df.sort_values(by='importance', ascending=False)    \n",
    "feature_df.set_index(keys='features').sort_values(by='importance', ascending=True).plot(kind='barh', figsize=(20, 15))"
   ]
  },
  {
   "cell_type": "code",
   "execution_count": null,
   "id": "built-poland",
   "metadata": {
    "papermill": {
     "duration": 0.038695,
     "end_time": "2021-06-03T15:21:04.220470",
     "exception": false,
     "start_time": "2021-06-03T15:21:04.181775",
     "status": "completed"
    },
    "tags": []
   },
   "outputs": [],
   "source": []
  },
  {
   "cell_type": "markdown",
   "id": "packed-algorithm",
   "metadata": {
    "papermill": {
     "duration": 0.03705,
     "end_time": "2021-06-03T15:21:04.295150",
     "exception": false,
     "start_time": "2021-06-03T15:21:04.258100",
     "status": "completed"
    },
    "tags": []
   },
   "source": []
  },
  {
   "cell_type": "markdown",
   "id": "demonstrated-karen",
   "metadata": {
    "papermill": {
     "duration": 0.037507,
     "end_time": "2021-06-03T15:21:04.369912",
     "exception": false,
     "start_time": "2021-06-03T15:21:04.332405",
     "status": "completed"
    },
    "tags": []
   },
   "source": [
    "# **Confusion Matrix**\n",
    "Plot the confusion matrix, with some non-normalized matrix"
   ]
  },
  {
   "cell_type": "code",
   "execution_count": 25,
   "id": "functioning-department",
   "metadata": {
    "execution": {
     "iopub.execute_input": "2021-06-03T15:21:04.455391Z",
     "iopub.status.busy": "2021-06-03T15:21:04.454518Z",
     "iopub.status.idle": "2021-06-03T15:21:04.845402Z",
     "shell.execute_reply": "2021-06-03T15:21:04.844576Z",
     "shell.execute_reply.started": "2021-06-03T13:16:59.879148Z"
    },
    "papermill": {
     "duration": 0.438178,
     "end_time": "2021-06-03T15:21:04.845625",
     "exception": false,
     "start_time": "2021-06-03T15:21:04.407447",
     "status": "completed"
    },
    "tags": []
   },
   "outputs": [
    {
     "name": "stdout",
     "output_type": "stream",
     "text": [
      "Confusion matrix, without normalization\n",
      "[[416 127]\n",
      " [144 435]]\n",
      "Normalized confusion matrix\n",
      "[[0.77 0.23]\n",
      " [0.25 0.75]]\n"
     ]
    },
    {
     "data": {
      "image/png": "[encoded data removed]",
      "text/plain": [
       "<Figure size 432x288 with 2 Axes>"
      ]
     },
     "metadata": {
      "needs_background": "light"
     },
     "output_type": "display_data"
    },
    {
     "data": {
      "image/png": "[encoded data removed]",
      "text/plain": [
       "<Figure size 432x288 with 2 Axes>"
      ]
     },
     "metadata": {
      "needs_background": "light"
     },
     "output_type": "display_data"
    },
    {
     "name": "stdout",
     "output_type": "stream",
     "text": [
      "              precision    recall  f1-score   support\n",
      "\n",
      " Not churned       0.74      0.77      0.75       543\n",
      "     churned       0.77      0.75      0.76       579\n",
      "\n",
      "    accuracy                           0.76      1122\n",
      "   macro avg       0.76      0.76      0.76      1122\n",
      "weighted avg       0.76      0.76      0.76      1122\n",
      "\n"
     ]
    }
   ],
   "source": [
    "# Confusion matrix\n",
    "from sklearn.metrics import confusion_matrix\n",
    "import itertools\n",
    "\n",
    "def plot_confusion_matrix(cm, classes,\n",
    "                          normalize=False,\n",
    "                          title='Confusion matrix',\n",
    "                          cmap=plt.cm.Blues):\n",
    "    \"\"\"\n",
    "    This function prints and plots the confusion matrix.\n",
    "    Normalization can be applied by setting `normalize=True`.\n",
    "    \"\"\"\n",
    "    if normalize:\n",
    "        cm = cm.astype('float') / cm.sum(axis=1)[:, np.newaxis]\n",
    "        print(\"Normalized confusion matrix\")\n",
    "    else:\n",
    "        print('Confusion matrix, without normalization')\n",
    "\n",
    "    print(cm)\n",
    "\n",
    "    plt.imshow(cm, interpolation='nearest', cmap=cmap)\n",
    "    plt.title(title)\n",
    "    plt.colorbar()\n",
    "    tick_marks = np.arange(len(classes))\n",
    "    plt.xticks(tick_marks, classes, rotation=45)\n",
    "    plt.yticks(tick_marks, classes)\n",
    "\n",
    "    fmt = '.2f' if normalize else 'd'\n",
    "    thresh = cm.max() / 2.\n",
    "    for i, j in itertools.product(range(cm.shape[0]), range(cm.shape[1])):\n",
    "        plt.text(j, i, format(cm[i, j], fmt),\n",
    "                 horizontalalignment=\"center\",\n",
    "                 color=\"white\" if cm[i, j] > thresh else \"black\")\n",
    "\n",
    "    plt.tight_layout()\n",
    "    plt.ylabel('True label')\n",
    "    plt.xlabel('Predicted label')\n",
    "\n",
    "# Compute confusion matrix\n",
    "cnf_matrix = confusion_matrix(label_test, pred)\n",
    "np.set_printoptions(precision=2)\n",
    "\n",
    "# Plot non-normalized confusion matrix\n",
    "plt.figure()\n",
    "class_names = ['Not churned','churned']\n",
    "\n",
    "plot_confusion_matrix(cnf_matrix, classes=class_names,\n",
    "                      title='Confusion matrix, without normalization')\n",
    "\n",
    "# Plot normalized confusion matrix\n",
    "plt.figure()\n",
    "plot_confusion_matrix(cnf_matrix, classes=class_names, normalize=True,\n",
    "                      title='Normalized confusion matrix')\n",
    "\n",
    "plt.show()\n",
    "\n",
    "\n",
    "from sklearn.metrics import classification_report\n",
    "eval_metrics = classification_report(label_test, pred, target_names=class_names)\n",
    "print(eval_metrics)"
   ]
  },
  {
   "cell_type": "markdown",
   "id": "activated-circular",
   "metadata": {
    "papermill": {
     "duration": 0.039031,
     "end_time": "2021-06-03T15:21:04.925095",
     "exception": false,
     "start_time": "2021-06-03T15:21:04.886064",
     "status": "completed"
    },
    "tags": []
   },
   "source": [
    "From the matrix above we can see that if we do not normnalized, we predicted that 425 people are going to churn and indeed 425 customers churned. "
   ]
  },
  {
   "cell_type": "markdown",
   "id": "african-composite",
   "metadata": {
    "papermill": {
     "duration": 0.039228,
     "end_time": "2021-06-03T15:21:05.003378",
     "exception": false,
     "start_time": "2021-06-03T15:21:04.964150",
     "status": "completed"
    },
    "tags": []
   },
   "source": [
    "# **Digging some more on the results**\n",
    "This result seems conservative. We're more likely to say someone is going to churn when they're not vs predicting someone's not going to churn when they do."
   ]
  },
  {
   "cell_type": "markdown",
   "id": "convinced-papua",
   "metadata": {
    "papermill": {
     "duration": 0.038462,
     "end_time": "2021-06-03T15:21:05.080943",
     "exception": false,
     "start_time": "2021-06-03T15:21:05.042481",
     "status": "completed"
    },
    "tags": []
   },
   "source": [
    "# **Make predictions on the dataset**"
   ]
  },
  {
   "cell_type": "code",
   "execution_count": 26,
   "id": "single-prospect",
   "metadata": {
    "execution": {
     "iopub.execute_input": "2021-06-03T15:21:05.165207Z",
     "iopub.status.busy": "2021-06-03T15:21:05.164636Z",
     "iopub.status.idle": "2021-06-03T15:21:05.190473Z",
     "shell.execute_reply": "2021-06-03T15:21:05.190867Z",
     "shell.execute_reply.started": "2021-06-03T13:17:00.425228Z"
    },
    "papermill": {
     "duration": 0.070294,
     "end_time": "2021-06-03T15:21:05.191037",
     "exception": false,
     "start_time": "2021-06-03T15:21:05.120743",
     "status": "completed"
    },
    "tags": []
   },
   "outputs": [],
   "source": [
    "# Preprocessing original dataframe\n",
    "def preprocess_df(dataframe):\n",
    "    x = dataframe.copy()\n",
    "    try:\n",
    "        customer_id = x['customerID']\n",
    "        del x['customerID'] # Don't need in ML DF\n",
    "    except:\n",
    "        print(\"already removed customerID\")\n",
    "    ml_dummies = pd.get_dummies(x)\n",
    "    ml_dummies.fillna(value=0, inplace=True)\n",
    "\n",
    "    # import random done above\n",
    "    #ml_dummies['---randomColumn---'] = np.random.randint(0,1000, size=len(ml_dummies))\n",
    "\n",
    "    try:\n",
    "        label = ml_dummies['Churn']\n",
    "        del ml_dummies['Churn']\n",
    "    except:\n",
    "        print(\"label already removed.\")\n",
    "    return ml_dummies, customer_id, label\n",
    "\n",
    "original_df = preprocess_df(df)"
   ]
  },
  {
   "cell_type": "code",
   "execution_count": 27,
   "id": "consolidated-disabled",
   "metadata": {
    "execution": {
     "iopub.execute_input": "2021-06-03T15:21:05.273029Z",
     "iopub.status.busy": "2021-06-03T15:21:05.272512Z",
     "iopub.status.idle": "2021-06-03T15:21:05.281938Z",
     "shell.execute_reply": "2021-06-03T15:21:05.282376Z",
     "shell.execute_reply.started": "2021-06-03T13:17:00.461640Z"
    },
    "papermill": {
     "duration": 0.052374,
     "end_time": "2021-06-03T15:21:05.282546",
     "exception": false,
     "start_time": "2021-06-03T15:21:05.230172",
     "status": "completed"
    },
    "tags": []
   },
   "outputs": [],
   "source": [
    "output_df = original_df[0].copy()\n",
    "output_df['prediction'] = clf.predict_proba(output_df)[:,1]\n",
    "output_df['churn'] = original_df[2]\n",
    "output_df['customerID'] = original_df[1]"
   ]
  },
  {
   "cell_type": "code",
   "execution_count": 28,
   "id": "married-intelligence",
   "metadata": {
    "execution": {
     "iopub.execute_input": "2021-06-03T15:21:05.362763Z",
     "iopub.status.busy": "2021-06-03T15:21:05.362166Z",
     "iopub.status.idle": "2021-06-03T15:21:05.373219Z",
     "shell.execute_reply": "2021-06-03T15:21:05.372777Z",
     "shell.execute_reply.started": "2021-06-03T13:17:00.474634Z"
    },
    "papermill": {
     "duration": 0.051964,
     "end_time": "2021-06-03T15:21:05.373366",
     "exception": false,
     "start_time": "2021-06-03T15:21:05.321402",
     "status": "completed"
    },
    "tags": []
   },
   "outputs": [
    {
     "name": "stdout",
     "output_type": "stream",
     "text": [
      "Mean predict proba of churn: 0.69\n",
      "Mean predict proba of NON-churn: 0.31\n"
     ]
    }
   ],
   "source": [
    "print('Mean predict proba of churn:',round(output_df[output_df['churn'] == 1]['prediction'].mean(),2))\n",
    "\n",
    "print('Mean predict proba of NON-churn:',round(output_df[output_df['churn'] == 0]['prediction'].mean(),2))"
   ]
  },
  {
   "cell_type": "markdown",
   "id": "trying-senior",
   "metadata": {
    "papermill": {
     "duration": 0.038493,
     "end_time": "2021-06-03T15:21:05.450790",
     "exception": false,
     "start_time": "2021-06-03T15:21:05.412297",
     "status": "completed"
    },
    "tags": []
   },
   "source": [
    "# **Use this next dataframe for activation.** \n",
    "Using media, let's target the customers who haven't churned but are likely to."
   ]
  },
  {
   "cell_type": "code",
   "execution_count": 29,
   "id": "necessary-liberty",
   "metadata": {
    "execution": {
     "iopub.execute_input": "2021-06-03T15:21:05.532533Z",
     "iopub.status.busy": "2021-06-03T15:21:05.531913Z",
     "iopub.status.idle": "2021-06-03T15:21:05.652702Z",
     "shell.execute_reply": "2021-06-03T15:21:05.652231Z",
     "shell.execute_reply.started": "2021-06-03T14:51:16.309580Z"
    },
    "papermill": {
     "duration": 0.162995,
     "end_time": "2021-06-03T15:21:05.652835",
     "exception": false,
     "start_time": "2021-06-03T15:21:05.489840",
     "status": "completed"
    },
    "tags": []
   },
   "outputs": [
    {
     "ename": "NameError",
     "evalue": "name 'activate' is not defined",
     "output_type": "error",
     "traceback": [
      "\u001b[0;31m---------------------------------------------------------------------------\u001b[0m",
      "\u001b[0;31mNameError\u001b[0m                                 Traceback (most recent call last)",
      "\u001b[0;32m<ipython-input-29-c22c4fdca959>\u001b[0m in \u001b[0;36m<module>\u001b[0;34m\u001b[0m\n\u001b[1;32m      1\u001b[0m \u001b[0;31m# activate\u001b[0m\u001b[0;34m\u001b[0m\u001b[0;34m\u001b[0m\u001b[0;34m\u001b[0m\u001b[0m\n\u001b[1;32m      2\u001b[0m \u001b[0;31m#activate = output_df[output_df['churn'] == 0]\u001b[0m\u001b[0;34m\u001b[0m\u001b[0;34m\u001b[0m\u001b[0;34m\u001b[0m\u001b[0m\n\u001b[0;32m----> 3\u001b[0;31m \u001b[0mactivate\u001b[0m\u001b[0;34m[\u001b[0m\u001b[0;34m[\u001b[0m\u001b[0;34m'customerID'\u001b[0m\u001b[0;34m,\u001b[0m\u001b[0;34m'prediction'\u001b[0m\u001b[0;34m]\u001b[0m\u001b[0;34m]\u001b[0m\u001b[0;34m\u001b[0m\u001b[0;34m\u001b[0m\u001b[0m\n\u001b[0m",
      "\u001b[0;31mNameError\u001b[0m: name 'activate' is not defined"
     ]
    }
   ],
   "source": [
    "# activate\n",
    "#activate = output_df[output_df['churn'] == 0]\n",
    "activate[['customerID','prediction']]"
   ]
  },
  {
   "cell_type": "code",
   "execution_count": 30,
   "id": "boolean-chicken",
   "metadata": {
    "execution": {
     "iopub.execute_input": "2021-06-03T15:21:05.740795Z",
     "iopub.status.busy": "2021-06-03T15:21:05.735748Z",
     "iopub.status.idle": "2021-06-03T15:21:05.749577Z",
     "shell.execute_reply": "2021-06-03T15:21:05.750034Z",
     "shell.execute_reply.started": "2021-06-03T13:48:03.613933Z"
    },
    "papermill": {
     "duration": 0.057763,
     "end_time": "2021-06-03T15:21:05.750191",
     "exception": false,
     "start_time": "2021-06-03T15:21:05.692428",
     "status": "completed"
    },
    "tags": []
   },
   "outputs": [
    {
     "ename": "NameError",
     "evalue": "name 'activate' is not defined",
     "output_type": "error",
     "traceback": [
      "\u001b[0;31m---------------------------------------------------------------------------\u001b[0m",
      "\u001b[0;31mNameError\u001b[0m                                 Traceback (most recent call last)",
      "\u001b[0;32m<ipython-input-30-8c133beb5180>\u001b[0m in \u001b[0;36m<module>\u001b[0;34m\u001b[0m\n\u001b[0;32m----> 1\u001b[0;31m \u001b[0mactivate\u001b[0m\u001b[0;34m.\u001b[0m\u001b[0mhead\u001b[0m\u001b[0;34m(\u001b[0m\u001b[0;36m20\u001b[0m\u001b[0;34m)\u001b[0m\u001b[0;34m\u001b[0m\u001b[0;34m\u001b[0m\u001b[0m\n\u001b[0m",
      "\u001b[0;31mNameError\u001b[0m: name 'activate' is not defined"
     ]
    }
   ],
   "source": [
    "activate.head(20)"
   ]
  },
  {
   "cell_type": "code",
   "execution_count": 31,
   "id": "featured-russell",
   "metadata": {
    "execution": {
     "iopub.execute_input": "2021-06-03T15:21:05.832967Z",
     "iopub.status.busy": "2021-06-03T15:21:05.832088Z",
     "iopub.status.idle": "2021-06-03T15:21:05.847607Z",
     "shell.execute_reply": "2021-06-03T15:21:05.848053Z",
     "shell.execute_reply.started": "2021-06-03T13:18:13.578938Z"
    },
    "papermill": {
     "duration": 0.058359,
     "end_time": "2021-06-03T15:21:05.848214",
     "exception": false,
     "start_time": "2021-06-03T15:21:05.789855",
     "status": "completed"
    },
    "tags": []
   },
   "outputs": [
    {
     "ename": "NameError",
     "evalue": "name 'activate' is not defined",
     "output_type": "error",
     "traceback": [
      "\u001b[0;31m---------------------------------------------------------------------------\u001b[0m",
      "\u001b[0;31mNameError\u001b[0m                                 Traceback (most recent call last)",
      "\u001b[0;32m<ipython-input-31-c3224a388561>\u001b[0m in \u001b[0;36m<module>\u001b[0;34m\u001b[0m\n\u001b[1;32m      2\u001b[0m \u001b[0;32mimport\u001b[0m \u001b[0mmatplotlib\u001b[0m\u001b[0;34m.\u001b[0m\u001b[0mpyplot\u001b[0m \u001b[0;32mas\u001b[0m \u001b[0mplt\u001b[0m\u001b[0;34m\u001b[0m\u001b[0;34m\u001b[0m\u001b[0m\n\u001b[1;32m      3\u001b[0m \u001b[0;34m\u001b[0m\u001b[0m\n\u001b[0;32m----> 4\u001b[0;31m \u001b[0msns\u001b[0m\u001b[0;34m.\u001b[0m\u001b[0mboxplot\u001b[0m\u001b[0;34m(\u001b[0m\u001b[0mactivate\u001b[0m\u001b[0;34m[\u001b[0m\u001b[0;34m'prediction'\u001b[0m\u001b[0;34m]\u001b[0m\u001b[0;34m)\u001b[0m\u001b[0;34m\u001b[0m\u001b[0;34m\u001b[0m\u001b[0m\n\u001b[0m",
      "\u001b[0;31mNameError\u001b[0m: name 'activate' is not defined"
     ]
    }
   ],
   "source": [
    "import seaborn as sns\n",
    "import matplotlib.pyplot as plt\n",
    "\n",
    "sns.boxplot(activate['prediction'])"
   ]
  },
  {
   "cell_type": "code",
   "execution_count": 32,
   "id": "certain-inquiry",
   "metadata": {
    "execution": {
     "iopub.execute_input": "2021-06-03T15:21:05.931422Z",
     "iopub.status.busy": "2021-06-03T15:21:05.930540Z",
     "iopub.status.idle": "2021-06-03T15:21:05.945660Z",
     "shell.execute_reply": "2021-06-03T15:21:05.946117Z",
     "shell.execute_reply.started": "2021-06-03T14:33:24.408292Z"
    },
    "papermill": {
     "duration": 0.058196,
     "end_time": "2021-06-03T15:21:05.946292",
     "exception": false,
     "start_time": "2021-06-03T15:21:05.888096",
     "status": "completed"
    },
    "tags": []
   },
   "outputs": [
    {
     "ename": "NameError",
     "evalue": "name 'activate' is not defined",
     "output_type": "error",
     "traceback": [
      "\u001b[0;31m---------------------------------------------------------------------------\u001b[0m",
      "\u001b[0;31mNameError\u001b[0m                                 Traceback (most recent call last)",
      "\u001b[0;32m<ipython-input-32-becbb93390ee>\u001b[0m in \u001b[0;36m<module>\u001b[0;34m\u001b[0m\n\u001b[1;32m      1\u001b[0m \u001b[0;31m#checking lower quatile and upper quartile\u001b[0m\u001b[0;34m\u001b[0m\u001b[0;34m\u001b[0m\u001b[0;34m\u001b[0m\u001b[0m\n\u001b[0;32m----> 2\u001b[0;31m \u001b[0mQ1\u001b[0m \u001b[0;34m=\u001b[0m \u001b[0mactivate\u001b[0m\u001b[0;34m[\u001b[0m\u001b[0;34m'prediction'\u001b[0m\u001b[0;34m]\u001b[0m\u001b[0;34m.\u001b[0m\u001b[0mquantile\u001b[0m\u001b[0;34m(\u001b[0m\u001b[0;36m0.25\u001b[0m\u001b[0;34m)\u001b[0m\u001b[0;34m\u001b[0m\u001b[0;34m\u001b[0m\u001b[0m\n\u001b[0m\u001b[1;32m      3\u001b[0m \u001b[0mQ3\u001b[0m \u001b[0;34m=\u001b[0m \u001b[0mactivate\u001b[0m\u001b[0;34m[\u001b[0m\u001b[0;34m'prediction'\u001b[0m\u001b[0;34m]\u001b[0m\u001b[0;34m.\u001b[0m\u001b[0mquantile\u001b[0m\u001b[0;34m(\u001b[0m\u001b[0;36m0.75\u001b[0m\u001b[0;34m)\u001b[0m\u001b[0;34m\u001b[0m\u001b[0;34m\u001b[0m\u001b[0m\n\u001b[1;32m      4\u001b[0m \u001b[0;31m#IQR = Q3 - Q1\u001b[0m\u001b[0;34m\u001b[0m\u001b[0;34m\u001b[0m\u001b[0;34m\u001b[0m\u001b[0m\n\u001b[1;32m      5\u001b[0m \u001b[0;31m#print(IQR)\u001b[0m\u001b[0;34m\u001b[0m\u001b[0;34m\u001b[0m\u001b[0;34m\u001b[0m\u001b[0m\n",
      "\u001b[0;31mNameError\u001b[0m: name 'activate' is not defined"
     ]
    }
   ],
   "source": [
    "#checking lower quatile and upper quartile\n",
    "Q1 = activate['prediction'].quantile(0.25)\n",
    "Q3 = activate['prediction'].quantile(0.75)\n",
    "#IQR = Q3 - Q1\n",
    "#print(IQR)\n",
    "print(Q1)\n",
    "print(Q3)"
   ]
  },
  {
   "cell_type": "markdown",
   "id": "confidential-machine",
   "metadata": {
    "papermill": {
     "duration": 0.03982,
     "end_time": "2021-06-03T15:21:06.026236",
     "exception": false,
     "start_time": "2021-06-03T15:21:05.986416",
     "status": "completed"
    },
    "tags": []
   },
   "source": [
    "****"
   ]
  },
  {
   "cell_type": "code",
   "execution_count": 33,
   "id": "occupied-turtle",
   "metadata": {
    "execution": {
     "iopub.execute_input": "2021-06-03T15:21:06.111344Z",
     "iopub.status.busy": "2021-06-03T15:21:06.110471Z",
     "iopub.status.idle": "2021-06-03T15:21:06.126856Z",
     "shell.execute_reply": "2021-06-03T15:21:06.127353Z",
     "shell.execute_reply.started": "2021-06-03T14:38:13.536531Z"
    },
    "papermill": {
     "duration": 0.060129,
     "end_time": "2021-06-03T15:21:06.127523",
     "exception": false,
     "start_time": "2021-06-03T15:21:06.067394",
     "status": "completed"
    },
    "tags": []
   },
   "outputs": [
    {
     "ename": "NameError",
     "evalue": "name 'activate' is not defined",
     "output_type": "error",
     "traceback": [
      "\u001b[0;31m---------------------------------------------------------------------------\u001b[0m",
      "\u001b[0;31mNameError\u001b[0m                                 Traceback (most recent call last)",
      "\u001b[0;32m<ipython-input-33-97c0e1a9b982>\u001b[0m in \u001b[0;36m<module>\u001b[0;34m\u001b[0m\n\u001b[1;32m      2\u001b[0m \u001b[0mk\u001b[0m\u001b[0;34m=\u001b[0m\u001b[0;36m0.5\u001b[0m\u001b[0;34m\u001b[0m\u001b[0;34m\u001b[0m\u001b[0m\n\u001b[1;32m      3\u001b[0m \u001b[0mcount\u001b[0m\u001b[0;34m=\u001b[0m\u001b[0;36m0\u001b[0m\u001b[0;34m\u001b[0m\u001b[0;34m\u001b[0m\u001b[0m\n\u001b[0;32m----> 4\u001b[0;31m \u001b[0;32mfor\u001b[0m \u001b[0mi\u001b[0m \u001b[0;32min\u001b[0m \u001b[0mactivate\u001b[0m\u001b[0;34m[\u001b[0m\u001b[0;34m'prediction'\u001b[0m\u001b[0;34m]\u001b[0m\u001b[0;34m:\u001b[0m\u001b[0;34m\u001b[0m\u001b[0;34m\u001b[0m\u001b[0m\n\u001b[0m\u001b[1;32m      5\u001b[0m     \u001b[0;32mif\u001b[0m \u001b[0mi\u001b[0m\u001b[0;34m>\u001b[0m\u001b[0mk\u001b[0m\u001b[0;34m:\u001b[0m\u001b[0;34m\u001b[0m\u001b[0;34m\u001b[0m\u001b[0m\n\u001b[1;32m      6\u001b[0m         \u001b[0mcount\u001b[0m\u001b[0;34m=\u001b[0m\u001b[0mcount\u001b[0m\u001b[0;34m+\u001b[0m\u001b[0;36m1\u001b[0m\u001b[0;34m\u001b[0m\u001b[0;34m\u001b[0m\u001b[0m\n",
      "\u001b[0;31mNameError\u001b[0m: name 'activate' is not defined"
     ]
    }
   ],
   "source": [
    "#checking how many customers are more likily to churn. That is how many customers are above Q3\n",
    "k=0.5\n",
    "count=0\n",
    "for i in activate['prediction']:\n",
    "    if i>k:\n",
    "        count=count+1\n",
    "       # print(\"The number greater than .5: \"+ str(count))\n",
    "count"
   ]
  },
  {
   "cell_type": "markdown",
   "id": "small-biodiversity",
   "metadata": {
    "papermill": {
     "duration": 0.040925,
     "end_time": "2021-06-03T15:21:06.208971",
     "exception": false,
     "start_time": "2021-06-03T15:21:06.168046",
     "status": "completed"
    },
    "tags": []
   },
   "source": [
    "**There are 1593 customers that are likely to churn. The chance for these customers to churn are very high, therefore we need to make foolow ups on how we can make them not to churn**"
   ]
  },
  {
   "cell_type": "code",
   "execution_count": 34,
   "id": "interracial-pattern",
   "metadata": {
    "execution": {
     "iopub.execute_input": "2021-06-03T15:21:06.293288Z",
     "iopub.status.busy": "2021-06-03T15:21:06.292399Z",
     "iopub.status.idle": "2021-06-03T15:21:06.308315Z",
     "shell.execute_reply": "2021-06-03T15:21:06.308788Z",
     "shell.execute_reply.started": "2021-06-03T14:38:26.062039Z"
    },
    "papermill": {
     "duration": 0.059519,
     "end_time": "2021-06-03T15:21:06.308948",
     "exception": false,
     "start_time": "2021-06-03T15:21:06.249429",
     "status": "completed"
    },
    "tags": []
   },
   "outputs": [
    {
     "ename": "NameError",
     "evalue": "name 'activate' is not defined",
     "output_type": "error",
     "traceback": [
      "\u001b[0;31m---------------------------------------------------------------------------\u001b[0m",
      "\u001b[0;31mNameError\u001b[0m                                 Traceback (most recent call last)",
      "\u001b[0;32m<ipython-input-34-d6eeb336f5fe>\u001b[0m in \u001b[0;36m<module>\u001b[0;34m\u001b[0m\n\u001b[1;32m      1\u001b[0m \u001b[0mk\u001b[0m\u001b[0;34m=\u001b[0m\u001b[0;36m0.07\u001b[0m\u001b[0;34m\u001b[0m\u001b[0;34m\u001b[0m\u001b[0m\n\u001b[1;32m      2\u001b[0m \u001b[0mcount\u001b[0m\u001b[0;34m=\u001b[0m\u001b[0;36m0\u001b[0m\u001b[0;34m\u001b[0m\u001b[0;34m\u001b[0m\u001b[0m\n\u001b[0;32m----> 3\u001b[0;31m \u001b[0;32mfor\u001b[0m \u001b[0mi\u001b[0m \u001b[0;32min\u001b[0m \u001b[0mactivate\u001b[0m\u001b[0;34m[\u001b[0m\u001b[0;34m'prediction'\u001b[0m\u001b[0;34m]\u001b[0m\u001b[0;34m:\u001b[0m\u001b[0;34m\u001b[0m\u001b[0;34m\u001b[0m\u001b[0m\n\u001b[0m\u001b[1;32m      4\u001b[0m     \u001b[0;32mif\u001b[0m \u001b[0mi\u001b[0m\u001b[0;34m>=\u001b[0m\u001b[0mk\u001b[0m\u001b[0;34m:\u001b[0m\u001b[0;34m\u001b[0m\u001b[0;34m\u001b[0m\u001b[0m\n\u001b[1;32m      5\u001b[0m         \u001b[0mcount\u001b[0m\u001b[0;34m=\u001b[0m\u001b[0mcount\u001b[0m\u001b[0;34m+\u001b[0m\u001b[0;36m1\u001b[0m\u001b[0;34m\u001b[0m\u001b[0;34m\u001b[0m\u001b[0m\n",
      "\u001b[0;31mNameError\u001b[0m: name 'activate' is not defined"
     ]
    }
   ],
   "source": [
    "k=0.07\n",
    "count=0\n",
    "for i in activate['prediction']:\n",
    "    if i>=k:\n",
    "        count=count+1\n",
    "       # print(\"The number greater than .5: \"+ str(count))\n",
    "count"
   ]
  },
  {
   "cell_type": "markdown",
   "id": "angry-turkish",
   "metadata": {
    "papermill": {
     "duration": 0.040446,
     "end_time": "2021-06-03T15:21:06.390079",
     "exception": false,
     "start_time": "2021-06-03T15:21:06.349633",
     "status": "completed"
    },
    "tags": []
   },
   "source": [
    "**For about 3312 customer want to stay with us but on the other hand they are not happy with our service and that make them to move out.**"
   ]
  },
  {
   "cell_type": "code",
   "execution_count": null,
   "id": "worth-graduation",
   "metadata": {
    "papermill": {
     "duration": 0.040464,
     "end_time": "2021-06-03T15:21:06.471220",
     "exception": false,
     "start_time": "2021-06-03T15:21:06.430756",
     "status": "completed"
    },
    "tags": []
   },
   "outputs": [],
   "source": []
  }
 ],
 "metadata": {
  "kernelspec": {
   "display_name": "Python 3",
   "language": "python",
   "name": "python3"
  },
  "language_info": {
   "codemirror_mode": {
    "name": "ipython",
    "version": 3
   },
   "file_extension": ".py",
   "mimetype": "text/x-python",
   "name": "python",
   "nbconvert_exporter": "python",
   "pygments_lexer": "ipython3",
   "version": "3.7.10"
  },
  "papermill": {
   "default_parameters": {},
   "duration": 16.824056,
   "end_time": "2021-06-03T15:21:07.834576",
   "environment_variables": {},
   "exception": null,
   "input_path": "__notebook__.ipynb",
   "output_path": "__notebook__.ipynb",
   "parameters": {},
   "start_time": "2021-06-03T15:20:51.010520",
   "version": "2.3.3"
  }
 },
 "nbformat": 4,
 "nbformat_minor": 5
}
