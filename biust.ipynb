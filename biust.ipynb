{
  "nbformat": 4,
  "nbformat_minor": 0,
  "metadata": {
    "colab": {
      "provenance": [],
      "authorship_tag": "ABX9TyN4DzPoktNMY+dPBJD90X1g",
      "include_colab_link": true
    },
    "kernelspec": {
      "name": "python3",
      "display_name": "Python 3"
    },
    "language_info": {
      "name": "python"
    }
  },
  "cells": [
    {
      "cell_type": "markdown",
      "metadata": {
        "id": "view-in-github",
        "colab_type": "text"
      },
      "source": [
        "<a href=\"https://colab.research.google.com/github/nketsang/ADSGIT/blob/ASSIGNMENT-7-%26-8/biust.ipynb\" target=\"_parent\"><img src=\"https://colab.research.google.com/assets/colab-badge.svg\" alt=\"Open In Colab\"/></a>"
      ]
    },
    {
      "cell_type": "code",
      "execution_count": null,
      "metadata": {
        "id": "XN7mZMyucw2e"
      },
      "outputs": [],
      "source": [
        "GET THE DATA"
      ]
    },
    {
      "cell_type": "code",
      "source": [
        "import pandas as pd\n",
        "import plotly.express as px \n",
        "from plotly import graph_objects as go\n",
        "#from plotly import graph_objects as \n",
        "import seaborn as sns\n",
        "import matplotlib.pyplot as plt \n",
        "\n",
        "\n"
      ],
      "metadata": {
        "id": "NtHZiQqNc76Q"
      },
      "execution_count": 2,
      "outputs": []
    },
    {
      "cell_type": "code",
      "source": [
        "df=pd.read_csv(\"CRU_1990.2021_pre_Reg1.csv\")"
      ],
      "metadata": {
        "id": "btTGgeFJhUBK"
      },
      "execution_count": null,
      "outputs": []
    },
    {
      "cell_type": "code",
      "source": [],
      "metadata": {
        "id": "XTXhIEouejX0"
      },
      "execution_count": null,
      "outputs": []
    }
  ]
}